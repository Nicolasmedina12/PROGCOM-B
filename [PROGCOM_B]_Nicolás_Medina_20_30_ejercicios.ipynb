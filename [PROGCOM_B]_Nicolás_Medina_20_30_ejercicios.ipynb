{
  "nbformat": 4,
  "nbformat_minor": 0,
  "metadata": {
    "colab": {
      "provenance": []
    },
    "kernelspec": {
      "name": "python3",
      "display_name": "Python 3"
    },
    "language_info": {
      "name": "python"
    }
  },
  "cells": [
    {
      "cell_type": "markdown",
      "source": [
        "#20"
      ],
      "metadata": {
        "id": "6zGpwgA2m5W2"
      }
    },
    {
      "cell_type": "code",
      "execution_count": null,
      "metadata": {
        "id": "3ecU5B5TlRCP"
      },
      "outputs": [],
      "source": [
        "import random\n",
        "\n",
        "colores = {\n",
        "    1: \"rojo\", 2: \"azul\", 3: \"verde\", 4: \"amarillo\", 5: \"naranja\",\n",
        "    6: \"morado\", 7: \"rosado\", 8: \"marrón\", 9: \"gris\", 10: \"negro\"\n",
        "}\n",
        "\n",
        "color_objetivo = colores[random.randint(1, 10)]\n",
        "\n",
        "print(\"He elegido un color de la lista. ¡Adivina cuál es!\")\n",
        "\n",
        "adivinar = lambda intento: intento.lower() == color_objetivo\n",
        "\n",
        "for intento in range(10):\n",
        "    color_usuario = input(f\"Intento {intento + 1}/10: Escribe un color: \")\n",
        "    if adivinar(color_usuario):\n",
        "        print(f\"¡Correcto! El color era {color_objetivo}.\")\n",
        "        break\n",
        "    else:\n",
        "        print(\"Incorrecto. Inténtalo de nuevo.\")\n",
        "else:\n",
        "    print(f\"Lo siento, no adivinaste. El color era {color_objetivo}.\")\n",
        "\n"
      ]
    },
    {
      "cell_type": "code",
      "source": [
        "ssssimport random\n",
        "\n",
        "colores = {\n",
        "    1: \"rojo\", 2: \"azul\", 3: \"verde\", 4: \"amarillo\", 5: \"naranja\",\n",
        "    6: \"morado\", 7: \"rosado\", 8: \"marrón\", 9: \"gris\", 10: \"negro\"\n",
        "}\n",
        "\n",
        "color_objetivo = (lambda: colores[random.randint(1, 10)])()\n",
        "\n",
        "print(\"He elegido un color de la lista. ¡Adivina cuál es!\")\n",
        "\n",
        "adivinar = lambda intento: intento.lower() == color_objetivo\n",
        "\n",
        "def juego():\n",
        "    list(map(lambda intento: (print(f\"Intento {intento + 1}/10: \", end=\"\"),\n",
        "                               (lambda color_usuario: print(\"¡Correcto! El color era\", color_objetivo) if adivinar(color_usuario)\n",
        "                                else print(\"Incorrecto. Inténtalo de nuevo.\"))(input()))[1]\n",
        "              if not adivinar(input(f\"Escribe un color: \")) else exit(), range(10)))\n",
        "    print(f\"Lo siento, no adivinaste. El color era {color_objetivo}.\")\n",
        "\n",
        "juego()\n"
      ],
      "metadata": {
        "colab": {
          "base_uri": "https://localhost:8080/"
        },
        "id": "b1cXTdXimmzn",
        "outputId": "f6942c95-812e-4c05-8a10-01a7c2a399eb"
      },
      "execution_count": 31,
      "outputs": [
        {
          "output_type": "stream",
          "name": "stdout",
          "text": [
            "He elegido un color de la lista. ¡Adivina cuál es!\n",
            "Escribe un color: negro+\n",
            "Intento 1/10: negro\n",
            "Incorrecto. Inténtalo de nuevo.\n",
            "Escribe un color: verde\n",
            "Intento 2/10: rojo\n",
            "Incorrecto. Inténtalo de nuevo.\n",
            "Escribe un color: gris\n",
            "Intento 3/10: naranja\n",
            "Incorrecto. Inténtalo de nuevo.\n",
            "Escribe un color: morado\n",
            "Intento 4/10: amarillo\n",
            "¡Correcto! El color era amarillo\n",
            "Escribe un color: s\n",
            "Intento 5/10: s\n",
            "Incorrecto. Inténtalo de nuevo.\n",
            "Escribe un color: s\n",
            "Intento 6/10: \n",
            "Incorrecto. Inténtalo de nuevo.\n",
            "Escribe un color: \n",
            "Intento 7/10: \n",
            "Incorrecto. Inténtalo de nuevo.\n",
            "Escribe un color: \n",
            "Intento 8/10: s\n",
            "Incorrecto. Inténtalo de nuevo.\n",
            "Escribe un color: amarillo\n",
            "Escribe un color: amarillo\n",
            "Lo siento, no adivinaste. El color era amarillo.\n"
          ]
        }
      ]
    },
    {
      "cell_type": "markdown",
      "source": [
        "#21\n"
      ],
      "metadata": {
        "id": "lOZk-LCfmxQX"
      }
    },
    {
      "cell_type": "code",
      "source": [
        "numeros_pares = list(filter(lambda x: x % 2 == 0, range(1, 101)))\n",
        "print(numeros_pares)"
      ],
      "metadata": {
        "colab": {
          "base_uri": "https://localhost:8080/"
        },
        "id": "FW_ryIpgm23e",
        "outputId": "500166d9-c791-41d3-ef00-3935284eafe7"
      },
      "execution_count": 3,
      "outputs": [
        {
          "output_type": "stream",
          "name": "stdout",
          "text": [
            "[2, 4, 6, 8, 10, 12, 14, 16, 18, 20, 22, 24, 26, 28, 30, 32, 34, 36, 38, 40, 42, 44, 46, 48, 50, 52, 54, 56, 58, 60, 62, 64, 66, 68, 70, 72, 74, 76, 78, 80, 82, 84, 86, 88, 90, 92, 94, 96, 98, 100]\n"
          ]
        }
      ]
    },
    {
      "cell_type": "code",
      "source": [
        "(lambda: print(list(filter(lambda x: x % 2 == 0, range(1, 101)))))()"
      ],
      "metadata": {
        "colab": {
          "base_uri": "https://localhost:8080/"
        },
        "id": "fWGSUK5AnL43",
        "outputId": "e18fdc4e-1364-4f2e-adce-97ccd2b88f21"
      },
      "execution_count": 5,
      "outputs": [
        {
          "output_type": "stream",
          "name": "stdout",
          "text": [
            "[2, 4, 6, 8, 10, 12, 14, 16, 18, 20, 22, 24, 26, 28, 30, 32, 34, 36, 38, 40, 42, 44, 46, 48, 50, 52, 54, 56, 58, 60, 62, 64, 66, 68, 70, 72, 74, 76, 78, 80, 82, 84, 86, 88, 90, 92, 94, 96, 98, 100]\n"
          ]
        }
      ]
    },
    {
      "cell_type": "markdown",
      "source": [
        "#22"
      ],
      "metadata": {
        "id": "ZgOTev4lnvdm"
      }
    },
    {
      "cell_type": "code",
      "source": [
        "sumar_digitos = lambda num: sum(map(int, str(num)))\n",
        "numero = int(input(\"Ingresa un número: \"))\n",
        "print(f\"La suma de los dígitos de {numero} es {sumar_digitos(numero)}\")\n"
      ],
      "metadata": {
        "colab": {
          "base_uri": "https://localhost:8080/"
        },
        "id": "fUS3FnNTnw6W",
        "outputId": "7cb37c00-2ece-4bb4-f18c-c60f9f875344"
      },
      "execution_count": 12,
      "outputs": [
        {
          "output_type": "stream",
          "name": "stdout",
          "text": [
            "Ingresa un número: 25\n",
            "La suma de los dígitos de 25 es 7\n"
          ]
        }
      ]
    },
    {
      "cell_type": "code",
      "source": [
        "(lambda n: print(f\"La suma de los dígitos de {n} es {sum(map(int, str(n)))}\")) (int(input(\"Ingresa un número: \")))"
      ],
      "metadata": {
        "colab": {
          "base_uri": "https://localhost:8080/"
        },
        "id": "uizwTInDoJYG",
        "outputId": "b66096c6-45ee-4d64-c8ee-0438508a4c3b"
      },
      "execution_count": 25,
      "outputs": [
        {
          "output_type": "stream",
          "name": "stdout",
          "text": [
            "Ingresa un número: 25\n",
            "La suma de los dígitos de 25 es 7\n"
          ]
        }
      ]
    },
    {
      "cell_type": "markdown",
      "source": [
        "#23"
      ],
      "metadata": {
        "id": "XrDxh2RLpX38"
      }
    },
    {
      "cell_type": "code",
      "source": [
        "(lambda n: print(f\"{n} es primo\" if all(n % i != 0 for i in range(2, int(n**0.5) + 1)) and n > 1 else f\"{n} no es primo\")) (int(input(\"Ingresa un número: \")))\n"
      ],
      "metadata": {
        "colab": {
          "base_uri": "https://localhost:8080/"
        },
        "id": "KeYRwJ23pYyN",
        "outputId": "7af41ee3-07e9-4e55-b266-364b8366c111"
      },
      "execution_count": 26,
      "outputs": [
        {
          "output_type": "stream",
          "name": "stdout",
          "text": [
            "Ingresa un número: 36\n",
            "36 no es primo\n"
          ]
        }
      ]
    },
    {
      "cell_type": "code",
      "source": [
        "(lambda: print((lambda n: f\"{n} es primo\" if n > 1 and all(n % i for i in [j for j in range(2, int(n**0.5) + 1)]) else f\"{n} no es primo\")(int(input(\"Ingresa un número: \")))))()\n"
      ],
      "metadata": {
        "colab": {
          "base_uri": "https://localhost:8080/"
        },
        "id": "Dzgiekvlpq_U",
        "outputId": "74294fba-38c8-43ca-9aaa-431c2af3fd94"
      },
      "execution_count": 27,
      "outputs": [
        {
          "output_type": "stream",
          "name": "stdout",
          "text": [
            "Ingresa un número: 13\n",
            "13 es primo\n"
          ]
        }
      ]
    },
    {
      "cell_type": "markdown",
      "source": [
        "#24"
      ],
      "metadata": {
        "id": "8TRfOZIEqUEz"
      }
    },
    {
      "cell_type": "code",
      "source": [
        "(lambda n: print('\\n'.join(['*' * i for i in range(1, n + 1)]))) (int(input(\"Ingresa el número de filas: \")))\n"
      ],
      "metadata": {
        "colab": {
          "base_uri": "https://localhost:8080/"
        },
        "id": "x3Txf0AFqVND",
        "outputId": "e1e6312d-8974-4cc8-c245-b800f5ef12cd"
      },
      "execution_count": 29,
      "outputs": [
        {
          "output_type": "stream",
          "name": "stdout",
          "text": [
            "Ingresa el número de filas: 8\n",
            "*\n",
            "**\n",
            "***\n",
            "****\n",
            "*****\n",
            "******\n",
            "*******\n",
            "********\n"
          ]
        }
      ]
    },
    {
      "cell_type": "code",
      "source": [
        "(lambda n: print('\\n'.join(['*' * i for i in [j for j in range(1, n + 1)]]))) (int(input(\"Ingresa el número de filas: \")))\n"
      ],
      "metadata": {
        "colab": {
          "base_uri": "https://localhost:8080/"
        },
        "id": "gE70gCU7qr9s",
        "outputId": "0108ee24-7121-4f3c-db66-85ea4af00462"
      },
      "execution_count": 30,
      "outputs": [
        {
          "output_type": "stream",
          "name": "stdout",
          "text": [
            "Ingresa el número de filas: 13\n",
            "*\n",
            "**\n",
            "***\n",
            "****\n",
            "*****\n",
            "******\n",
            "*******\n",
            "********\n",
            "*********\n",
            "**********\n",
            "***********\n",
            "************\n",
            "*************\n"
          ]
        }
      ]
    },
    {
      "cell_type": "markdown",
      "source": [
        "#25"
      ],
      "metadata": {
        "id": "utDKSlRYrOgq"
      }
    },
    {
      "cell_type": "code",
      "source": [
        "(lambda base, exponente: print(f\"{base}^{exponente} = {eval('*'.join([str(base)] * exponente))}\")) (int(input(\"Ingresa la base: \")), int(input(\"Ingresa el exponente: \")))"
      ],
      "metadata": {
        "colab": {
          "base_uri": "https://localhost:8080/"
        },
        "id": "eYLpJOyerQpD",
        "outputId": "ebfec206-00c9-43cb-e342-dda62ed49a7c"
      },
      "execution_count": 1,
      "outputs": [
        {
          "output_type": "stream",
          "name": "stdout",
          "text": [
            "Ingresa la base: 2\n",
            "Ingresa el exponente: 8\n",
            "2^8 = 256\n"
          ]
        }
      ]
    },
    {
      "cell_type": "code",
      "source": [
        "(lambda: print((lambda b, e: f\"{b}^{e} = {eval('*'.join([str(b) for _ in range(e)]))}\")(int(input(\"Ingresa la base: \")), int(input(\"Ingresa el exponente: \")))))()\n"
      ],
      "metadata": {
        "colab": {
          "base_uri": "https://localhost:8080/"
        },
        "id": "n9lsoLDKrX6C",
        "outputId": "dbea874a-be6c-44b4-bce8-c607b7e6a5f7"
      },
      "execution_count": 4,
      "outputs": [
        {
          "output_type": "stream",
          "name": "stdout",
          "text": [
            "Ingresa la base: 5\n",
            "Ingresa el exponente: 2\n",
            "5^2 = 25\n"
          ]
        }
      ]
    },
    {
      "cell_type": "markdown",
      "source": [
        "#26"
      ],
      "metadata": {
        "id": "tO-TfsXUsD1i"
      }
    },
    {
      "cell_type": "code",
      "source": [
        "print('\\n'.join([f\"{i} x {j} = {i*j}\" for i in range(1, 11) for j in range(1, 11)]))\n"
      ],
      "metadata": {
        "colab": {
          "base_uri": "https://localhost:8080/"
        },
        "id": "0dQCnu2EsGri",
        "outputId": "8c24d402-b5de-48da-d2fe-15a9e49c4734"
      },
      "execution_count": 5,
      "outputs": [
        {
          "output_type": "stream",
          "name": "stdout",
          "text": [
            "1 x 1 = 1\n",
            "1 x 2 = 2\n",
            "1 x 3 = 3\n",
            "1 x 4 = 4\n",
            "1 x 5 = 5\n",
            "1 x 6 = 6\n",
            "1 x 7 = 7\n",
            "1 x 8 = 8\n",
            "1 x 9 = 9\n",
            "1 x 10 = 10\n",
            "2 x 1 = 2\n",
            "2 x 2 = 4\n",
            "2 x 3 = 6\n",
            "2 x 4 = 8\n",
            "2 x 5 = 10\n",
            "2 x 6 = 12\n",
            "2 x 7 = 14\n",
            "2 x 8 = 16\n",
            "2 x 9 = 18\n",
            "2 x 10 = 20\n",
            "3 x 1 = 3\n",
            "3 x 2 = 6\n",
            "3 x 3 = 9\n",
            "3 x 4 = 12\n",
            "3 x 5 = 15\n",
            "3 x 6 = 18\n",
            "3 x 7 = 21\n",
            "3 x 8 = 24\n",
            "3 x 9 = 27\n",
            "3 x 10 = 30\n",
            "4 x 1 = 4\n",
            "4 x 2 = 8\n",
            "4 x 3 = 12\n",
            "4 x 4 = 16\n",
            "4 x 5 = 20\n",
            "4 x 6 = 24\n",
            "4 x 7 = 28\n",
            "4 x 8 = 32\n",
            "4 x 9 = 36\n",
            "4 x 10 = 40\n",
            "5 x 1 = 5\n",
            "5 x 2 = 10\n",
            "5 x 3 = 15\n",
            "5 x 4 = 20\n",
            "5 x 5 = 25\n",
            "5 x 6 = 30\n",
            "5 x 7 = 35\n",
            "5 x 8 = 40\n",
            "5 x 9 = 45\n",
            "5 x 10 = 50\n",
            "6 x 1 = 6\n",
            "6 x 2 = 12\n",
            "6 x 3 = 18\n",
            "6 x 4 = 24\n",
            "6 x 5 = 30\n",
            "6 x 6 = 36\n",
            "6 x 7 = 42\n",
            "6 x 8 = 48\n",
            "6 x 9 = 54\n",
            "6 x 10 = 60\n",
            "7 x 1 = 7\n",
            "7 x 2 = 14\n",
            "7 x 3 = 21\n",
            "7 x 4 = 28\n",
            "7 x 5 = 35\n",
            "7 x 6 = 42\n",
            "7 x 7 = 49\n",
            "7 x 8 = 56\n",
            "7 x 9 = 63\n",
            "7 x 10 = 70\n",
            "8 x 1 = 8\n",
            "8 x 2 = 16\n",
            "8 x 3 = 24\n",
            "8 x 4 = 32\n",
            "8 x 5 = 40\n",
            "8 x 6 = 48\n",
            "8 x 7 = 56\n",
            "8 x 8 = 64\n",
            "8 x 9 = 72\n",
            "8 x 10 = 80\n",
            "9 x 1 = 9\n",
            "9 x 2 = 18\n",
            "9 x 3 = 27\n",
            "9 x 4 = 36\n",
            "9 x 5 = 45\n",
            "9 x 6 = 54\n",
            "9 x 7 = 63\n",
            "9 x 8 = 72\n",
            "9 x 9 = 81\n",
            "9 x 10 = 90\n",
            "10 x 1 = 10\n",
            "10 x 2 = 20\n",
            "10 x 3 = 30\n",
            "10 x 4 = 40\n",
            "10 x 5 = 50\n",
            "10 x 6 = 60\n",
            "10 x 7 = 70\n",
            "10 x 8 = 80\n",
            "10 x 9 = 90\n",
            "10 x 10 = 100\n"
          ]
        }
      ]
    },
    {
      "cell_type": "code",
      "source": [
        "(lambda: print('\\n'.join([f\"{i} x {j} = {i*j}\" for i in range(1, 11) for j in range(1, 11)])))()\n"
      ],
      "metadata": {
        "colab": {
          "base_uri": "https://localhost:8080/"
        },
        "id": "2BrWAx3SsTak",
        "outputId": "0c90f285-07ac-45d0-b88e-121a6edcd900"
      },
      "execution_count": 7,
      "outputs": [
        {
          "output_type": "stream",
          "name": "stdout",
          "text": [
            "1 x 1 = 1\n",
            "1 x 2 = 2\n",
            "1 x 3 = 3\n",
            "1 x 4 = 4\n",
            "1 x 5 = 5\n",
            "1 x 6 = 6\n",
            "1 x 7 = 7\n",
            "1 x 8 = 8\n",
            "1 x 9 = 9\n",
            "1 x 10 = 10\n",
            "2 x 1 = 2\n",
            "2 x 2 = 4\n",
            "2 x 3 = 6\n",
            "2 x 4 = 8\n",
            "2 x 5 = 10\n",
            "2 x 6 = 12\n",
            "2 x 7 = 14\n",
            "2 x 8 = 16\n",
            "2 x 9 = 18\n",
            "2 x 10 = 20\n",
            "3 x 1 = 3\n",
            "3 x 2 = 6\n",
            "3 x 3 = 9\n",
            "3 x 4 = 12\n",
            "3 x 5 = 15\n",
            "3 x 6 = 18\n",
            "3 x 7 = 21\n",
            "3 x 8 = 24\n",
            "3 x 9 = 27\n",
            "3 x 10 = 30\n",
            "4 x 1 = 4\n",
            "4 x 2 = 8\n",
            "4 x 3 = 12\n",
            "4 x 4 = 16\n",
            "4 x 5 = 20\n",
            "4 x 6 = 24\n",
            "4 x 7 = 28\n",
            "4 x 8 = 32\n",
            "4 x 9 = 36\n",
            "4 x 10 = 40\n",
            "5 x 1 = 5\n",
            "5 x 2 = 10\n",
            "5 x 3 = 15\n",
            "5 x 4 = 20\n",
            "5 x 5 = 25\n",
            "5 x 6 = 30\n",
            "5 x 7 = 35\n",
            "5 x 8 = 40\n",
            "5 x 9 = 45\n",
            "5 x 10 = 50\n",
            "6 x 1 = 6\n",
            "6 x 2 = 12\n",
            "6 x 3 = 18\n",
            "6 x 4 = 24\n",
            "6 x 5 = 30\n",
            "6 x 6 = 36\n",
            "6 x 7 = 42\n",
            "6 x 8 = 48\n",
            "6 x 9 = 54\n",
            "6 x 10 = 60\n",
            "7 x 1 = 7\n",
            "7 x 2 = 14\n",
            "7 x 3 = 21\n",
            "7 x 4 = 28\n",
            "7 x 5 = 35\n",
            "7 x 6 = 42\n",
            "7 x 7 = 49\n",
            "7 x 8 = 56\n",
            "7 x 9 = 63\n",
            "7 x 10 = 70\n",
            "8 x 1 = 8\n",
            "8 x 2 = 16\n",
            "8 x 3 = 24\n",
            "8 x 4 = 32\n",
            "8 x 5 = 40\n",
            "8 x 6 = 48\n",
            "8 x 7 = 56\n",
            "8 x 8 = 64\n",
            "8 x 9 = 72\n",
            "8 x 10 = 80\n",
            "9 x 1 = 9\n",
            "9 x 2 = 18\n",
            "9 x 3 = 27\n",
            "9 x 4 = 36\n",
            "9 x 5 = 45\n",
            "9 x 6 = 54\n",
            "9 x 7 = 63\n",
            "9 x 8 = 72\n",
            "9 x 9 = 81\n",
            "9 x 10 = 90\n",
            "10 x 1 = 10\n",
            "10 x 2 = 20\n",
            "10 x 3 = 30\n",
            "10 x 4 = 40\n",
            "10 x 5 = 50\n",
            "10 x 6 = 60\n",
            "10 x 7 = 70\n",
            "10 x 8 = 80\n",
            "10 x 9 = 90\n",
            "10 x 10 = 100\n"
          ]
        }
      ]
    },
    {
      "cell_type": "markdown",
      "source": [
        "#27"
      ],
      "metadata": {
        "id": "xLUgTp5-stZL"
      }
    },
    {
      "cell_type": "code",
      "source": [
        "n = int(input(\"Ingresa un número: \"))\n",
        "perfectos = [x for x in range(1, n+1) if sum([i for i in range(1, x) if x % i == 0]) == x]\n",
        "print(\"Números perfectos:\", perfectos)"
      ],
      "metadata": {
        "colab": {
          "base_uri": "https://localhost:8080/"
        },
        "id": "FZ-lrgtJsuXa",
        "outputId": "22b669c0-c33e-45b3-b48e-27ff9893163e"
      },
      "execution_count": 13,
      "outputs": [
        {
          "output_type": "stream",
          "name": "stdout",
          "text": [
            "Ingresa un número: 13\n",
            "Números perfectos: [6]\n"
          ]
        }
      ]
    },
    {
      "cell_type": "code",
      "source": [
        "(lambda n: print(\"Números perfectos:\", [x for x in range(1, n+1) if sum([i for i in range(1, x) if x % i == 0]) == x]))(int(input(\"Ingresa un número: \")))"
      ],
      "metadata": {
        "colab": {
          "base_uri": "https://localhost:8080/"
        },
        "id": "0G9zZx8Bs2hR",
        "outputId": "e0c150ba-edcd-4179-caa1-09db06905b92"
      },
      "execution_count": 14,
      "outputs": [
        {
          "output_type": "stream",
          "name": "stdout",
          "text": [
            "Ingresa un número: 13\n",
            "Números perfectos: [6]\n"
          ]
        }
      ]
    },
    {
      "cell_type": "markdown",
      "source": [
        "#28"
      ],
      "metadata": {
        "id": "Ku-GGsuwtFfx"
      }
    },
    {
      "cell_type": "code",
      "source": [
        "n = int(input(\"Ingresa la altura del diamante (impar): \"))\n",
        "diamante = [' ' * abs(n//2 - i) + '*' * (n - 2 * abs(n//2 - i)) for i in range(n)]\n",
        "print('\\n'.join(diamante))"
      ],
      "metadata": {
        "colab": {
          "base_uri": "https://localhost:8080/"
        },
        "id": "DdK5xh0ItG3I",
        "outputId": "35457916-77c7-454a-bb47-e3d73fbf2cf9"
      },
      "execution_count": 19,
      "outputs": [
        {
          "output_type": "stream",
          "name": "stdout",
          "text": [
            "Ingresa la altura del diamante (impar): 5\n",
            "  *\n",
            " ***\n",
            "*****\n",
            " ***\n",
            "  *\n"
          ]
        }
      ]
    },
    {
      "cell_type": "code",
      "source": [
        "(lambda n: print('\\n'.join([' ' * abs(n//2 - i) + '*' * (n - 2 * abs(n//2 - i)) for i in range(n)])))(int(input(\"Ingresa la altura del diamante (impar): \")))\n"
      ],
      "metadata": {
        "colab": {
          "base_uri": "https://localhost:8080/"
        },
        "id": "V78FIms8tRDp",
        "outputId": "45e1167b-b808-4573-91f4-a4d3203465e7"
      },
      "execution_count": 20,
      "outputs": [
        {
          "output_type": "stream",
          "name": "stdout",
          "text": [
            "Ingresa la altura del diamante (impar): 1\n",
            "*\n"
          ]
        }
      ]
    },
    {
      "cell_type": "markdown",
      "source": [
        "#29"
      ],
      "metadata": {
        "id": "0sQFDYteuKai"
      }
    },
    {
      "cell_type": "code",
      "source": [
        "n = int(input(\"Ingresa un número: \"))\n",
        "armstrong = [x for x in range(1, n+1) if sum(int(d)**len(str(x)) for d in str(x)) == x]\n",
        "print(\"Números Armstrong:\", armstrong)\n"
      ],
      "metadata": {
        "colab": {
          "base_uri": "https://localhost:8080/"
        },
        "id": "IpQSof9VuLcY",
        "outputId": "f2e42732-a875-4869-ece5-e897f29d686b"
      },
      "execution_count": 29,
      "outputs": [
        {
          "output_type": "stream",
          "name": "stdout",
          "text": [
            "Ingresa un número: 10\n",
            "Números Armstrong: [1, 2, 3, 4, 5, 6, 7, 8, 9]\n"
          ]
        }
      ]
    },
    {
      "cell_type": "code",
      "source": [
        "(lambda n: print(\"Números Armstrong:\", [x for x in range(1, n+1) if sum(int(d)**len(str(x)) for d in str(x)) == x]))(int(input(\"Ingresa un número: \")))"
      ],
      "metadata": {
        "colab": {
          "base_uri": "https://localhost:8080/"
        },
        "id": "dvplq2F0usM4",
        "outputId": "7bf43ac2-fb10-413a-dc66-f648cf2ee065"
      },
      "execution_count": 30,
      "outputs": [
        {
          "output_type": "stream",
          "name": "stdout",
          "text": [
            "Ingresa un número: 9\n",
            "Números Armstrong: [1, 2, 3, 4, 5, 6, 7, 8, 9]\n"
          ]
        }
      ]
    },
    {
      "cell_type": "markdown",
      "source": [
        "#30"
      ],
      "metadata": {
        "id": "qRcqSR_4uuUI"
      }
    },
    {
      "cell_type": "code",
      "source": [
        "import time\n",
        "\n",
        "segundos = int(input(\"Ingresa la duración en segundos: \"))\n",
        "[print(f\"{h:02}:{m:02}:{s:02}\") or time.sleep(1) for s in range(60) for m in range(60) for h in range(24) if h*3600 + m*60 + s < segundos]"
      ],
      "metadata": {
        "colab": {
          "base_uri": "https://localhost:8080/"
        },
        "id": "jibsISgauvNo",
        "outputId": "6a867203-e970-4e73-f02f-051524112497"
      },
      "execution_count": 31,
      "outputs": [
        {
          "output_type": "stream",
          "name": "stdout",
          "text": [
            "Ingresa la duración en segundos: 25\n",
            "00:00:00\n",
            "00:00:01\n",
            "00:00:02\n",
            "00:00:03\n",
            "00:00:04\n",
            "00:00:05\n",
            "00:00:06\n",
            "00:00:07\n",
            "00:00:08\n",
            "00:00:09\n",
            "00:00:10\n",
            "00:00:11\n",
            "00:00:12\n",
            "00:00:13\n",
            "00:00:14\n",
            "00:00:15\n",
            "00:00:16\n",
            "00:00:17\n",
            "00:00:18\n",
            "00:00:19\n",
            "00:00:20\n",
            "00:00:21\n",
            "00:00:22\n",
            "00:00:23\n",
            "00:00:24\n"
          ]
        },
        {
          "output_type": "execute_result",
          "data": {
            "text/plain": [
              "[None,\n",
              " None,\n",
              " None,\n",
              " None,\n",
              " None,\n",
              " None,\n",
              " None,\n",
              " None,\n",
              " None,\n",
              " None,\n",
              " None,\n",
              " None,\n",
              " None,\n",
              " None,\n",
              " None,\n",
              " None,\n",
              " None,\n",
              " None,\n",
              " None,\n",
              " None,\n",
              " None,\n",
              " None,\n",
              " None,\n",
              " None,\n",
              " None]"
            ]
          },
          "metadata": {},
          "execution_count": 31
        }
      ]
    },
    {
      "cell_type": "code",
      "source": [
        "import time\n",
        "\n",
        "(lambda segundos: [print(f\"{h:02}:{m:02}:{s:02}\") or time.sleep(1) for s in range(60) for m in range(60) for h in range(24) if h*3600 + m*60 + s < segundos])(int(input(\"Ingresa la duración en segundos: \")))"
      ],
      "metadata": {
        "colab": {
          "base_uri": "https://localhost:8080/"
        },
        "id": "iA8lYPVpu_Ev",
        "outputId": "e66d2522-1964-4a36-c545-9ab0840c6802"
      },
      "execution_count": 32,
      "outputs": [
        {
          "output_type": "stream",
          "name": "stdout",
          "text": [
            "Ingresa la duración en segundos: 5\n",
            "00:00:00\n",
            "00:00:01\n",
            "00:00:02\n",
            "00:00:03\n",
            "00:00:04\n"
          ]
        },
        {
          "output_type": "execute_result",
          "data": {
            "text/plain": [
              "[None, None, None, None, None]"
            ]
          },
          "metadata": {},
          "execution_count": 32
        }
      ]
    }
  ]
}