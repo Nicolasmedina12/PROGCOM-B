{
  "nbformat": 4,
  "nbformat_minor": 0,
  "metadata": {
    "colab": {
      "provenance": []
    },
    "kernelspec": {
      "name": "python3",
      "display_name": "Python 3"
    },
    "language_info": {
      "name": "python"
    }
  },
  "cells": [
    {
      "cell_type": "code",
      "execution_count": null,
      "metadata": {
        "id": "q0RMCTJe85Iy"
      },
      "outputs": [],
      "source": [
        "class Animal {\n",
        "    void hablar() {\n",
        "        System.out.println(\"Este es un animal\");\n",
        "    }\n",
        "}\n",
        "\n",
        "class Perro extends Animal {\n",
        "    // No se añade ni modifica nada\n",
        "}\n",
        "\n",
        "public class Main {\n",
        "    public static void main(String[] args) {\n",
        "        Perro p = new Perro();\n",
        "        p.hablar();\n",
        "    }\n",
        "}"
      ]
    },
    {
      "cell_type": "code",
      "source": [
        "class Persona {\n",
        "    String nombre;\n",
        "\n",
        "\n",
        "    public Persona(String nombre) {\n",
        "        this.nombre = nombre;\n",
        "    }\n",
        "}\n",
        "\n",
        "\n",
        "class Estudiante extends Persona {\n",
        "\n",
        "    public Estudiante(String nombre) {\n",
        "        super(nombre);\n",
        "    }\n",
        "}\n",
        "\n",
        "\n",
        "public class Main {\n",
        "    public static void main(String[] args) {\n",
        "        Estudiante estudiante = new Estudiante(\"Ana\");\n",
        "        System.out.println(estudiante.nombre);\n",
        "    }\n",
        "}"
      ],
      "metadata": {
        "id": "rB8H9Wnk9KEO"
      },
      "execution_count": null,
      "outputs": []
    },
    {
      "cell_type": "code",
      "source": [
        "class Vehiculo {\n",
        "    void arrancar() {\n",
        "        System.out.println(\"Vehículo encendido\");\n",
        "    }\n",
        "}\n",
        "\n",
        "\n",
        "class Moto extends Vehiculo {\n",
        "\n",
        "    void arrancar() {\n",
        "        System.out.println(\"Moto encendida\");\n",
        "    }\n",
        "}\n",
        "\n",
        "\n",
        "public class Main {\n",
        "    public static void main(String[] args) {\n",
        "        Moto miMoto = new Moto();\n",
        "        miMoto.arrancar();\n",
        "    }\n",
        "}"
      ],
      "metadata": {
        "id": "KZ0hdUg99PHl"
      },
      "execution_count": null,
      "outputs": []
    },
    {
      "cell_type": "code",
      "source": [
        "\n",
        "class Empleado {\n",
        "    void trabajar() {\n",
        "        System.out.println(\"Empleado trabajando\");\n",
        "    }\n",
        "}\n",
        "\n",
        "\n",
        "class Gerente extends Empleado {\n",
        "\n",
        "    void trabajar() {\n",
        "        System.out.println(\"El gerente está planificando estrategias\");\n",
        "    }\n",
        "}\n",
        "\n",
        "\n",
        "class Obrero extends Empleado {\n",
        "\n",
        "    void trabajar() {\n",
        "        System.out.println(\"El obrero está construyendo\");\n",
        "    }\n",
        "}\n",
        "\n",
        "\n",
        "public class Main {\n",
        "    public static void main(String[] args) {\n",
        "        Gerente g = new Gerente();\n",
        "        Obrero o = new Obrero();\n",
        "\n",
        "        g.trabajar();\n",
        "        o.trabajar();\n",
        "    }\n",
        "}\n"
      ],
      "metadata": {
        "id": "XOda8S5z-YA-"
      },
      "execution_count": null,
      "outputs": []
    },
    {
      "cell_type": "code",
      "source": [
        "class Producto {\n",
        "    String nombre;\n",
        "    double precio;\n",
        "\n",
        "\n",
        "    public Producto(String nombre, double precio) {\n",
        "        this.nombre = nombre;\n",
        "        this.precio = precio;\n",
        "    }\n",
        "}\n",
        "\n",
        "\n",
        "class Libro extends Producto {\n",
        "    // Constructor de Libro que llama al constructor del padre\n",
        "    public Libro(String nombre, double precio) {\n",
        "        super(nombre, precio);\n",
        "    }\n",
        "\n",
        "\n",
        "    public void mostrarInformacion() {\n",
        "        System.out.println(\"Nombre del libro: \" + nombre);\n",
        "        System.out.println(\"Precio: $\" + precio);\n",
        "    }\n",
        "}\n",
        "\n",
        "\n",
        "public class Main {\n",
        "    public static void main(String[] args) {\n",
        "        Libro libro = new Libro(\"Java Básico\", 29.99);\n",
        "        libro.mostrarInformacion();\n",
        "    }\n",
        "}"
      ],
      "metadata": {
        "id": "AOhK6V9o-jod"
      },
      "execution_count": null,
      "outputs": []
    },
    {
      "cell_type": "code",
      "source": [
        "\n",
        "class Persona {\n",
        "    void saludar() {\n",
        "        System.out.println(\"Hola\");\n",
        "    }\n",
        "}\n",
        "\n",
        "\n",
        "class Profesor extends Persona {\n",
        "    void enseñar() {\n",
        "        System.out.println(\"Estoy enseñando\");\n",
        "    }\n",
        "}\n",
        "\n",
        "\n",
        "public class Main {\n",
        "    public static void main(String[] args) {\n",
        "        Profesor profe = new Profesor();\n",
        "        profe.saludar();\n",
        "        profe.enseñar();\n",
        "    }\n",
        "}"
      ],
      "metadata": {
        "id": "EOhpSmNR-4Lz"
      },
      "execution_count": null,
      "outputs": []
    },
    {
      "cell_type": "code",
      "source": [
        "class Animal {\n",
        "    void sonido() {\n",
        "        System.out.println(\"Sonido genérico\");\n",
        "    }\n",
        "}\n",
        "\n",
        "class Gato extends Animal {\n",
        "    void sonido() {\n",
        "        super.sonido();\n",
        "        System.out.println(\"Miau\");\n",
        "    }\n",
        "}\n",
        "\n",
        "\n",
        "public class Main {\n",
        "    public static void main(String[] args) {\n",
        "        Gato gato = new Gato();\n",
        "        gato.sonido();\n",
        "    }\n",
        "}"
      ],
      "metadata": {
        "id": "CzpjRrq2_HC1"
      },
      "execution_count": null,
      "outputs": []
    },
    {
      "cell_type": "code",
      "source": [
        "\n",
        "class Computadora {\n",
        "    void encender() {\n",
        "        System.out.println(\"Computadora encendida\");\n",
        "    }\n",
        "}\n",
        "\n",
        "\n",
        "class Portatil extends Computadora {\n",
        "\n",
        "}\n",
        "\n",
        "\n",
        "public class Main {\n",
        "    public static void main(String[] args) {\n",
        "        Portatil miPortatil = new Portatil();\n",
        "        miPortatil.encender();\n",
        "    }\n",
        "}"
      ],
      "metadata": {
        "id": "IEDvCuPO_WVE"
      },
      "execution_count": null,
      "outputs": []
    },
    {
      "cell_type": "code",
      "source": [
        "\n",
        "class Cuenta {\n",
        "    double saldo;\n",
        "\n",
        "\n",
        "    public Cuenta(double saldo) {\n",
        "        this.saldo = saldo;\n",
        "    }\n",
        "}\n",
        "\n",
        "\n",
        "class CuentaAhorro extends Cuenta {\n",
        "\n",
        "    public CuentaAhorro(double saldo) {\n",
        "        super(saldo);\n",
        "    }\n",
        "}\n",
        "\n",
        "\n",
        "public class Main {\n",
        "    public static void main(String[] args) {\n",
        "        CuentaAhorro miCuenta = new CuentaAhorro(1500.00);\n",
        "        System.out.println(\"Saldo: $\" + miCuenta.saldo);\n",
        "    }\n",
        "}\n"
      ],
      "metadata": {
        "id": "QyskgCCK_yxp"
      },
      "execution_count": null,
      "outputs": []
    },
    {
      "cell_type": "code",
      "source": [
        "class SerVivo {\n",
        "    void respirar() {\n",
        "        System.out.println(\"Respirando...\");\n",
        "    }\n",
        "}\n",
        "\n",
        "class Humano extends SerVivo {\n",
        "\n",
        "}\n",
        "\n",
        "public class Main {\n",
        "    public static void main(String[] args) {\n",
        "\n",
        "        Humano humano = new Humano();\n",
        "\n",
        "        humano.respirar();\n",
        "    }\n",
        "}"
      ],
      "metadata": {
        "id": "VZXOj019ABu7"
      },
      "execution_count": null,
      "outputs": []
    }
  ]
}