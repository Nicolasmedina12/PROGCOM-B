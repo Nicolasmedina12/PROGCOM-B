{
  "nbformat": 4,
  "nbformat_minor": 0,
  "metadata": {
    "colab": {
      "provenance": []
    },
    "kernelspec": {
      "name": "python3",
      "display_name": "Python 3"
    },
    "language_info": {
      "name": "python"
    }
  },
  "cells": [
    {
      "cell_type": "markdown",
      "source": [
        "1-Desarrolla un programa que valide si tres números pueden formar un triángulo y de qué tipo es.\n",
        "\n",
        "2-Crea un programa que muestre la tabla de multiplicar de un número hasta el 10.\n",
        "\n",
        "3-Escribe un programa que calcule la suma de números naturales hasta n.\n",
        "\n",
        "4-Desarrolla un programa que calcule el factorial de un número. Recuerda que el factorial de 0 es 1 y no existen factoriales negativos.\n",
        "\n",
        "5-Crea un programa que muestre los primeros n números de la serie Fibonacci.\n",
        "\n",
        "6-Escribe un programa que adivine entre un conjunto de diez colores definidos por el usuario, con un máximo de 10 intentos.\n",
        "\n",
        "7-Desarrolla un programa que muestre los números pares del 1 al 100.\n",
        "\n",
        "8-Crea un programa que calcule la suma de los dígitos de un número.\n",
        "\n",
        "9-Escribe un programa que determine si un número es primo.\n",
        "\n",
        "10-Desarrolla un programa que muestre el patrón de un triángulo con asteriscos.\n",
        "\n",
        "11-Crea un programa que calcule la potencia de un número sin usar el operador **."
      ],
      "metadata": {
        "id": "TK2mRiwLfV4N"
      }
    },
    {
      "cell_type": "code",
      "source": [
        "def es_triangulo(lados):\n",
        "    a, b, c = lados[\"a\"], lados[\"b\"], lados[\"c\"]\n",
        "    return a + b > c and a + c > b and b + c > a\n",
        "\n",
        "def tipo_triangulo(lados):\n",
        "    a, b, c = lados[\"a\"], lados[\"b\"], lados[\"c\"]\n",
        "    if a == b == c:\n",
        "        return \"Equilátero\"\n",
        "    elif a == b or a == c or b == c:\n",
        "        return \"Isósceles\"\n",
        "    else:\n",
        "        return \"Escaleno\"\n",
        "lados = {\n",
        "    \"a\": int(input(\"Ingrese el primer lado: \")),\n",
        "    \"b\": int(input(\"Ingrese el segundo lado: \")),\n",
        "    \"c\": int(input(\"Ingrese el tercer lado: \"))\n",
        "}\n",
        "if es_triangulo(lados):\n",
        "    print(f\"Los lados {lados['a']}, {lados['b']} y {lados['c']} forman un triángulo {tipo_triangulo(lados)}.\")\n",
        "else:\n",
        "    print(\"Los valores ingresados no forman un triángulo.\")"
      ],
      "metadata": {
        "colab": {
          "base_uri": "https://localhost:8080/"
        },
        "id": "lKN7_QANh-HS",
        "outputId": "9581ed0f-472c-43b0-b804-86850a791289"
      },
      "execution_count": 4,
      "outputs": [
        {
          "output_type": "stream",
          "name": "stdout",
          "text": [
            "Ingrese el primer lado: 2\n",
            "Ingrese el segundo lado: 4\n",
            "Ingrese el tercer lado: 2\n",
            "Los valores ingresados no forman un triángulo.\n"
          ]
        }
      ]
    },
    {
      "cell_type": "code",
      "source": [
        "numero = int(input(\"Ingrese un número: \"))\n",
        "\n",
        "tabla = {i: numero * i for i in range(1, 11)}\n",
        "\n",
        "print(f\"Tabla de multiplicar del {numero}:\")\n",
        "for clave, valor in tabla.items():\n",
        "    print(f\"{numero} x {clave} = {valor}\")\n"
      ],
      "metadata": {
        "colab": {
          "base_uri": "https://localhost:8080/"
        },
        "id": "d2YjWmB-fqoU",
        "outputId": "e611c84e-2406-4f8e-965a-5c2a18a6a5c8"
      },
      "execution_count": 1,
      "outputs": [
        {
          "output_type": "stream",
          "name": "stdout",
          "text": [
            "Ingrese un número: 1\n",
            "Tabla de multiplicar del 1:\n",
            "1 x 1 = 1\n",
            "1 x 2 = 2\n",
            "1 x 3 = 3\n",
            "1 x 4 = 4\n",
            "1 x 5 = 5\n",
            "1 x 6 = 6\n",
            "1 x 7 = 7\n",
            "1 x 8 = 8\n",
            "1 x 9 = 9\n",
            "1 x 10 = 10\n"
          ]
        }
      ]
    },
    {
      "cell_type": "code",
      "source": [
        "def suma_naturales(datos):\n",
        "    return sum(range(1, datos[\"n\"] + 1))\n",
        "\n",
        "# Solicitar número al usuario\n",
        "datos = {\"n\": int(input(\"Ingrese un número natural: \"))}\n",
        "\n",
        "if datos[\"n\"] > 0:\n",
        "    print(f\"La suma de los números naturales hasta {datos['n']} es {suma_naturales(datos)}\")\n",
        "else:\n",
        "    print(\"Por favor, ingrese un número natural positivo.\")\n"
      ],
      "metadata": {
        "colab": {
          "base_uri": "https://localhost:8080/"
        },
        "id": "-9Qfobh0jfAJ",
        "outputId": "d0f3f9ff-c1af-45d9-98a3-4d3ecbfff1b4"
      },
      "execution_count": 6,
      "outputs": [
        {
          "output_type": "stream",
          "name": "stdout",
          "text": [
            "Ingrese un número natural: 800\n",
            "La suma de los números naturales hasta 800 es 320400\n"
          ]
        }
      ]
    },
    {
      "cell_type": "code",
      "source": [
        "def factorial(datos):\n",
        "    n = datos[\"n\"]\n",
        "    if n == 0:\n",
        "        return 1\n",
        "    resultado = 1\n",
        "    for i in range(1, n + 1):\n",
        "        resultado *= i\n",
        "    return resultado\n",
        "\n",
        "datos = {\"n\": int(input(\"Ingrese un número natural: \"))}\n",
        "\n",
        "if datos[\"n\"] >= 0:\n",
        "    print(f\"El factorial de {datos['n']} es {factorial(datos)}\")\n",
        "else:\n",
        "    print(\"Por favor, ingrese un número natural no negativo.\")"
      ],
      "metadata": {
        "colab": {
          "base_uri": "https://localhost:8080/"
        },
        "id": "Ad34_PAQkcMX",
        "outputId": "7532409f-7c1d-4b42-d533-76adc7391c7f"
      },
      "execution_count": 7,
      "outputs": [
        {
          "output_type": "stream",
          "name": "stdout",
          "text": [
            "Ingrese un número natural: 8\n",
            "El factorial de 8 es 40320\n"
          ]
        }
      ]
    },
    {
      "cell_type": "code",
      "source": [
        "def fibonacci(datos):\n",
        "    n = datos[\"n\"]\n",
        "    serie = [0, 1]\n",
        "    for _ in range(2, n):\n",
        "        serie.append(serie[-1] + serie[-2])\n",
        "    return serie[:n]\n",
        "datos = {\"n\": int(input(\"Ingrese la cantidad de números de Fibonacci a mostrar: \"))}\n",
        "\n",
        "if datos[\"n\"] > 0:\n",
        "    print(f\"Los primeros {datos['n']} números de la serie Fibonacci son: {fibonacci(datos)}\")\n",
        "else:\n",
        "    print(\"Por favor, ingrese un número natural positivo.\")\n"
      ],
      "metadata": {
        "colab": {
          "base_uri": "https://localhost:8080/"
        },
        "id": "_5TXAzEanwxt",
        "outputId": "1a4e7155-4997-4737-9262-1397f9990e32"
      },
      "execution_count": 8,
      "outputs": [
        {
          "output_type": "stream",
          "name": "stdout",
          "text": [
            "Ingrese la cantidad de números de Fibonacci a mostrar: 5\n",
            "Los primeros 5 números de la serie Fibonacci son: [0, 1, 1, 2, 3]\n"
          ]
        }
      ]
    },
    {
      "cell_type": "code",
      "source": [
        "import random\n",
        "\n",
        "def adivinar_color(datos):\n",
        "    color_secreto = random.choice(datos[\"colores\"])\n",
        "    intentos = 0\n",
        "    max_intentos = 10\n",
        "\n",
        "    while intentos < max_intentos:\n",
        "        intento = input(f\"Intento {intentos + 1}/{max_intentos}: Adivina el color: \")\n",
        "        if intento.lower() == color_secreto.lower():\n",
        "            print(f\"¡Felicidades! Adivinaste el color {color_secreto}.\")\n",
        "            return\n",
        "        else:\n",
        "            print(\"Color incorrecto, intenta de nuevo.\")\n",
        "        intentos += 1\n",
        "\n",
        "    print(f\"Lo siento, no adivinaste. El color era {color_secreto}.\")\n",
        "datos = {\"colores\": [input(f\"Ingrese el color {i + 1}: \") for i in range(10)]}\n",
        "\n",
        "adivinar_color(datos)"
      ],
      "metadata": {
        "colab": {
          "base_uri": "https://localhost:8080/"
        },
        "id": "qU2PjQappwc0",
        "outputId": "97cb856f-8bbb-428d-c4d2-69714d5a2d1a"
      },
      "execution_count": 9,
      "outputs": [
        {
          "output_type": "stream",
          "name": "stdout",
          "text": [
            "Ingrese el color 1: rojo\n",
            "Ingrese el color 2: azul\n",
            "Ingrese el color 3: negro\n",
            "Ingrese el color 4: blanco\n",
            "Ingrese el color 5: verde\n",
            "Ingrese el color 6: morado\n",
            "Ingrese el color 7: lila\n",
            "Ingrese el color 8: agua marina\n",
            "Ingrese el color 9: amarillo\n",
            "Ingrese el color 10: turquesa\n",
            "Intento 1/10: Adivina el color: morado\n",
            "Color incorrecto, intenta de nuevo.\n",
            "Intento 2/10: Adivina el color: rojo\n",
            "Color incorrecto, intenta de nuevo.\n",
            "Intento 3/10: Adivina el color: lila\n",
            "Color incorrecto, intenta de nuevo.\n",
            "Intento 4/10: Adivina el color: turquesa\n",
            "Color incorrecto, intenta de nuevo.\n",
            "Intento 5/10: Adivina el color: amarillo\n",
            "Color incorrecto, intenta de nuevo.\n",
            "Intento 6/10: Adivina el color: agua marina\n",
            "Color incorrecto, intenta de nuevo.\n",
            "Intento 7/10: Adivina el color: blanco\n",
            "Color incorrecto, intenta de nuevo.\n",
            "Intento 8/10: Adivina el color: verde\n",
            "Color incorrecto, intenta de nuevo.\n",
            "Intento 9/10: Adivina el color: azul\n",
            "Color incorrecto, intenta de nuevo.\n",
            "Intento 10/10: Adivina el color: negro\n",
            "¡Felicidades! Adivinaste el color negro.\n"
          ]
        }
      ]
    },
    {
      "cell_type": "code",
      "source": [
        "def obtener_pares(datos):\n",
        "    return [num for num in range(1, datos[\"limite\"] + 1) if num % 2 == 0]\n",
        "\n",
        "datos = {\"limite\": 100}\n",
        "\n",
        "print(f\"Números pares del 1 al {datos['limite']}: {obtener_pares(datos)}\")"
      ],
      "metadata": {
        "colab": {
          "base_uri": "https://localhost:8080/"
        },
        "id": "sLC1QhxEp-Gr",
        "outputId": "2b31cdf6-6422-4d6c-b65e-19088094e4a8"
      },
      "execution_count": 10,
      "outputs": [
        {
          "output_type": "stream",
          "name": "stdout",
          "text": [
            "Números pares del 1 al 100: [2, 4, 6, 8, 10, 12, 14, 16, 18, 20, 22, 24, 26, 28, 30, 32, 34, 36, 38, 40, 42, 44, 46, 48, 50, 52, 54, 56, 58, 60, 62, 64, 66, 68, 70, 72, 74, 76, 78, 80, 82, 84, 86, 88, 90, 92, 94, 96, 98, 100]\n"
          ]
        }
      ]
    },
    {
      "cell_type": "code",
      "source": [
        "def suma_digitos(datos):\n",
        "    return sum(int(digito) for digito in str(datos[\"numero\"]))\n",
        "\n",
        "datos = {\"numero\": int(input(\"Ingrese un número: \"))}\n",
        "\n",
        "print(f\"La suma de los dígitos de {datos['numero']} es {suma_digitos(datos)}\")"
      ],
      "metadata": {
        "colab": {
          "base_uri": "https://localhost:8080/"
        },
        "id": "wI40bX51qAIb",
        "outputId": "d3157f3b-28a3-43b0-a55e-1bda04985f78"
      },
      "execution_count": 11,
      "outputs": [
        {
          "output_type": "stream",
          "name": "stdout",
          "text": [
            "Ingrese un número: 5\n",
            "La suma de los dígitos de 5 es 5\n"
          ]
        }
      ]
    },
    {
      "cell_type": "code",
      "source": [
        "def es_primo(datos):\n",
        "    num = datos[\"numero\"]\n",
        "    if num < 2:\n",
        "        return False\n",
        "    for i in range(2, int(num ** 0.5) + 1):\n",
        "        if num % i == 0:\n",
        "            return False\n",
        "    return True\n",
        "datos = {\"numero\": int(input(\"Ingrese un número: \"))}\n",
        "\n",
        "if es_primo(datos):\n",
        "    print(f\"El número {datos['numero']} es primo.\")\n",
        "else:\n",
        "    print(f\"El número {datos['numero']} no es primo.\")\n"
      ],
      "metadata": {
        "colab": {
          "base_uri": "https://localhost:8080/"
        },
        "id": "DjmX2OF_qMlr",
        "outputId": "737d0cd9-f262-45a4-a774-2732d1713d39"
      },
      "execution_count": 12,
      "outputs": [
        {
          "output_type": "stream",
          "name": "stdout",
          "text": [
            "Ingrese un número: 8\n",
            "El número 8 no es primo.\n"
          ]
        }
      ]
    },
    {
      "cell_type": "code",
      "source": [
        "def dibujar_triangulo(datos):\n",
        "    n = datos[\"altura\"]\n",
        "    for i in range(1, n + 1):\n",
        "        print(\"*\" * i)\n",
        "\n",
        "datos = {\"altura\": int(input(\"Ingrese la altura del triángulo: \"))}\n",
        "\n",
        "dibujar_triangulo(datos)\n"
      ],
      "metadata": {
        "colab": {
          "base_uri": "https://localhost:8080/"
        },
        "id": "7BXHIJ5HqYsb",
        "outputId": "ee262fdd-f0e9-4cb3-f2ee-40e6d3438930"
      },
      "execution_count": 13,
      "outputs": [
        {
          "output_type": "stream",
          "name": "stdout",
          "text": [
            "Ingrese la altura del triángulo: 8\n",
            "*\n",
            "**\n",
            "***\n",
            "****\n",
            "*****\n",
            "******\n",
            "*******\n",
            "********\n"
          ]
        }
      ]
    },
    {
      "cell_type": "code",
      "source": [
        "def calcular_potencia(datos):\n",
        "    base, exponente = datos[\"base\"], datos[\"exponente\"]\n",
        "    resultado = 1\n",
        "    for _ in range(abs(exponente)):\n",
        "        resultado *= base\n",
        "\n",
        "    if exponente < 0:\n",
        "        return 1 / resultado\n",
        "    return resultado\n",
        "\n",
        "datos = {\n",
        "    \"base\": int(input(\"Ingrese la base: \")),\n",
        "    \"exponente\": int(input(\"Ingrese el exponente: \"))\n",
        "}\n",
        "\n",
        "print(f\"{datos['base']}^{datos['exponente']} = {calcular_potencia(datos)}\")"
      ],
      "metadata": {
        "colab": {
          "base_uri": "https://localhost:8080/"
        },
        "id": "kif_rG8Hqjpd",
        "outputId": "3edbca4d-68ea-4fe2-8bd5-f177319aef49"
      },
      "execution_count": 14,
      "outputs": [
        {
          "output_type": "stream",
          "name": "stdout",
          "text": [
            "Ingrese la base: 2\n",
            "Ingrese el exponente: 3\n",
            "2^3 = 8\n"
          ]
        }
      ]
    },
    {
      "cell_type": "markdown",
      "source": [
        "1-Todos los números divisibles por 6 del 1 al 60\n",
        "\n",
        "2-Todos los nombres que empiecen por \"A\" de una lista de nombres\n",
        "\n",
        "3-Todos los números primos entre 0 y 70"
      ],
      "metadata": {
        "id": "k5KyQDw_sRRC"
      }
    },
    {
      "cell_type": "code",
      "source": [
        "def numeros_divisibles(datos):\n",
        "    return [num for num in range(1, datos[\"limite\"] + 1) if num % 6 == 0]\n",
        "\n",
        "datos = {\"limite\": 60}\n",
        "\n",
        "print(f\"Números divisibles por 6 del 1 al {datos['limite']}: {numeros_divisibles(datos)}\")"
      ],
      "metadata": {
        "colab": {
          "base_uri": "https://localhost:8080/"
        },
        "id": "1GZAl0husV4B",
        "outputId": "e71a0b88-9993-4294-f089-66722ddf7004"
      },
      "execution_count": 15,
      "outputs": [
        {
          "output_type": "stream",
          "name": "stdout",
          "text": [
            "Números divisibles por 6 del 1 al 60: [6, 12, 18, 24, 30, 36, 42, 48, 54, 60]\n"
          ]
        }
      ]
    },
    {
      "cell_type": "code",
      "source": [
        "def nombres_con_a(datos):\n",
        "    return [nombre for nombre in datos[\"nombres\"] if nombre.lower().startswith(\"a\")]\n",
        "\n",
        "datos = {\"nombres\": [\"Ana\", \"Carlos\", \"Andrea\", \"Pedro\", \"Alberto\", \"Luis\", \"Aurora\"]}\n",
        "\n",
        "print(f\"Nombres que empiezan con 'A': {nombres_con_a(datos)}\")"
      ],
      "metadata": {
        "colab": {
          "base_uri": "https://localhost:8080/"
        },
        "id": "hT9v5DEKuEBo",
        "outputId": "ef720b05-cb43-4016-9bf7-ed6b2f1cfa38"
      },
      "execution_count": 16,
      "outputs": [
        {
          "output_type": "stream",
          "name": "stdout",
          "text": [
            "Nombres que empiezan con 'A': ['Ana', 'Andrea', 'Alberto', 'Aurora']\n"
          ]
        }
      ]
    },
    {
      "cell_type": "code",
      "source": [
        "def es_primo(num):\n",
        "    if num < 2:\n",
        "        return False\n",
        "    for i in range(2, int(num ** 0.5) + 1):\n",
        "        if num % i == 0:\n",
        "            return False\n",
        "    return True\n",
        "\n",
        "def numeros_primos(datos):\n",
        "    return [num for num in range(datos[\"limite\"] + 1) if es_primo(num)]\n",
        "\n",
        "datos = {\"limite\": 70}\n",
        "\n",
        "print(f\"Números primos entre 0 y {datos['limite']}: {numeros_primos(datos)}\")\n"
      ],
      "metadata": {
        "colab": {
          "base_uri": "https://localhost:8080/"
        },
        "id": "AdnOrirPuF1A",
        "outputId": "d3523f11-ec60-4b24-9317-4f75cab144fa"
      },
      "execution_count": 17,
      "outputs": [
        {
          "output_type": "stream",
          "name": "stdout",
          "text": [
            "Números primos entre 0 y 70: [2, 3, 5, 7, 11, 13, 17, 19, 23, 29, 31, 37, 41, 43, 47, 53, 59, 61, 67]\n"
          ]
        }
      ]
    }
  ]
}