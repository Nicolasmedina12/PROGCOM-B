{
  "nbformat": 4,
  "nbformat_minor": 0,
  "metadata": {
    "colab": {
      "provenance": []
    },
    "kernelspec": {
      "name": "python3",
      "display_name": "Python 3"
    },
    "language_info": {
      "name": "python"
    }
  },
  "cells": [
    {
      "cell_type": "code",
      "execution_count": null,
      "metadata": {
        "id": "Lizx8UynsZW3"
      },
      "outputs": [],
      "source": [
        "{\n",
        "  \"nombre_completo\": \"Juan Pérez\",\n",
        "  \"edad\": 28,\n",
        "  \"ciudad\": \"Buenos Aires\"\n",
        "}\n"
      ]
    },
    {
      "cell_type": "code",
      "source": [
        "{\n",
        "  \"id\": 101,\n",
        "  \"nombre\": \"Auriculares Bluetooth\",\n",
        "  \"precio\": 29.99\n",
        "}\n"
      ],
      "metadata": {
        "id": "XSQfTeu4serz"
      },
      "execution_count": null,
      "outputs": []
    },
    {
      "cell_type": "code",
      "source": [
        "{\n",
        "  \"marca\": \"Toyota\",\n",
        "  \"modelo\": \"Corolla\",\n",
        "  \"anio_fabricacion\": 2020\n",
        "}\n"
      ],
      "metadata": {
        "id": "HR0JHKGgsf7z"
      },
      "execution_count": null,
      "outputs": []
    },
    {
      "cell_type": "code",
      "source": [
        "[\n",
        "  {\n",
        "    \"id\": 1,\n",
        "    \"nombre\": \"Lucía Gómez\",\n",
        "    \"calificacion_final\": 8.7\n",
        "  },\n",
        "  {\n",
        "    \"id\": 2,\n",
        "    \"nombre\": \"Carlos Méndez\",\n",
        "    \"calificacion_final\": 9.2\n",
        "  },\n",
        "  {\n",
        "    \"id\": 3,\n",
        "    \"nombre\": \"Ana Torres\",\n",
        "    \"calificacion_final\": 7.9\n",
        "  }\n",
        "]\n"
      ],
      "metadata": {
        "id": "s1xOOffwshGS"
      },
      "execution_count": null,
      "outputs": []
    },
    {
      "cell_type": "code",
      "source": [
        "{\n",
        "  \"nombre\": \"Tech Solutions S.A.\",\n",
        "  \"anio_fundacion\": 2010,\n",
        "  \"direccion\": {\n",
        "    \"calle\": \"Av. Siempre Viva 123\",\n",
        "    \"ciudad\": \"Madrid\"\n",
        "  }\n",
        "}\n"
      ],
      "metadata": {
        "id": "D7lpwzZXsid9"
      },
      "execution_count": null,
      "outputs": []
    },
    {
      "cell_type": "code",
      "source": [
        "{\n",
        "  \"titulo\": \"Cien Años de Soledad\",\n",
        "  \"numero_paginas\": 417\n",
        "}\n"
      ],
      "metadata": {
        "id": "epD3H8Qzsjvz"
      },
      "execution_count": null,
      "outputs": []
    },
    {
      "cell_type": "code",
      "source": [
        "{\n",
        "  \"nombre\": \"Pedro\",\n",
        "  \"edad\": 30\n",
        "}\n"
      ],
      "metadata": {
        "id": "PgsrOzEdslEb"
      },
      "execution_count": null,
      "outputs": []
    },
    {
      "cell_type": "code",
      "source": [
        "[\n",
        "  {\n",
        "    \"id\": 201,\n",
        "    \"nombre\": \"Laptop HP 15\",\n",
        "    \"precio\": 599.99\n",
        "  },\n",
        "  {\n",
        "    \"id\": 202,\n",
        "    \"nombre\": \"Smartphone Samsung Galaxy\",\n",
        "    \"precio\": 299.99\n",
        "  },\n",
        "  {\n",
        "    \"id\": 203,\n",
        "    \"nombre\": \"Tablet Lenovo\",\n",
        "    \"precio\": 199.99\n",
        "  }\n",
        "]\n"
      ],
      "metadata": {
        "id": "TQwq_M76sm0D"
      },
      "execution_count": null,
      "outputs": []
    },
    {
      "cell_type": "code",
      "source": [
        "{\n",
        "  \"temperatura\": 22.5,\n",
        "  \"humedad\": 65,\n",
        "  \"ciudad\": \"Barcelona\"\n",
        "}\n"
      ],
      "metadata": {
        "id": "FLjt6Tmrspkj"
      },
      "execution_count": null,
      "outputs": []
    },
    {
      "cell_type": "code",
      "source": [
        "{\n",
        "  \"id\": 1,\n",
        "  \"nombre_usuario\": \"usuario123\",\n",
        "  \"correo_electronico\": \"usuario123@example.com\"\n",
        "}\n"
      ],
      "metadata": {
        "id": "sVn9blU9sqdD"
      },
      "execution_count": null,
      "outputs": []
    }
  ]
}