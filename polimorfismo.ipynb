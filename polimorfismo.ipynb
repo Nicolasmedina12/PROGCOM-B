{
  "nbformat": 4,
  "nbformat_minor": 0,
  "metadata": {
    "colab": {
      "provenance": []
    },
    "kernelspec": {
      "name": "python3",
      "display_name": "Python 3"
    },
    "language_info": {
      "name": "python"
    }
  },
  "cells": [
    {
      "cell_type": "code",
      "execution_count": null,
      "metadata": {
        "colab": {
          "base_uri": "https://localhost:8080/"
        },
        "id": "jsURrsNQgg7M",
        "outputId": "f58fc020-7679-4c5d-db5b-df86e8baf271"
      },
      "outputs": [
        {
          "output_type": "stream",
          "name": "stdout",
          "text": [
            "Guau\n",
            "Miau\n",
            "Muuu\n"
          ]
        }
      ],
      "source": [
        "\n",
        "class Animal:\n",
        "    def hacer_sonido(self):\n",
        "        raise NotImplementedError(\"Este método debe ser implementado por las subclases\")\n",
        "\n",
        "\n",
        "class Perro(Animal):\n",
        "    def hacer_sonido(self):\n",
        "        return \"Guau\"\n",
        "\n",
        "class Gato(Animal):\n",
        "    def hacer_sonido(self):\n",
        "        return \"Miau\"\n",
        "\n",
        "class Vaca(Animal):\n",
        "    def hacer_sonido(self):\n",
        "        return \"Muuu\"\n",
        "\n",
        "\n",
        "def hacer_que_suene(animal):\n",
        "    print(animal.hacer_sonido())\n",
        "\n",
        "\n",
        "animales = [Perro(), Gato(), Vaca()]\n",
        "\n",
        "for animal in animales:\n",
        "    hacer_que_suene(animal)"
      ]
    },
    {
      "cell_type": "markdown",
      "source": [
        "1"
      ],
      "metadata": {
        "id": "pxw7AJT2tPez"
      }
    },
    {
      "cell_type": "code",
      "source": [
        "class Animal:\n",
        "    def hacer_sonido(self):\n",
        "        pass\n",
        "\n",
        "class Perro(Animal):\n",
        "    def hacer_sonido(self):\n",
        "        return \"Guau\"\n",
        "\n",
        "class Gato(Animal):\n",
        "    def hacer_sonido(self):\n",
        "        return \"Miau\"\n",
        "\n",
        "# Uso del polimorfismo\n",
        "animales = [Perro(), Gato()]\n",
        "\n",
        "for animal in animales:\n",
        "    print(animal.hacer_sonido())\n"
      ],
      "metadata": {
        "id": "rVqvaWasriW2"
      },
      "execution_count": null,
      "outputs": []
    },
    {
      "cell_type": "code",
      "source": [
        "abstract class Animal {\n",
        "    public abstract String hacerSonido();\n",
        "}\n",
        "\n",
        "class Perro extends Animal {\n",
        "    public String hacerSonido() {\n",
        "        return \"Guau\";\n",
        "    }\n",
        "}\n",
        "\n",
        "class Gato extends Animal {\n",
        "    public String hacerSonido() {\n",
        "        return \"Miau\";\n",
        "    }\n",
        "}\n",
        "\n",
        "public class Ejercicio1 {\n",
        "    public static void main(String[] args) {\n",
        "        Animal perro = new Perro();\n",
        "        Animal gato = new Gato();\n",
        "        System.out.println(perro.hacerSonido());\n",
        "        System.out.println(gato.hacerSonido());\n",
        "    }\n",
        "}\n"
      ],
      "metadata": {
        "id": "GOL5ET0Oss6c"
      },
      "execution_count": null,
      "outputs": []
    },
    {
      "cell_type": "markdown",
      "source": [
        "2"
      ],
      "metadata": {
        "id": "NFsI9Tu7tOis"
      }
    },
    {
      "cell_type": "code",
      "source": [
        "import math\n",
        "\n",
        "class Forma:\n",
        "    def calcular_area(self):\n",
        "        pass\n",
        "\n",
        "class Circulo(Forma):\n",
        "    def __init__(self, radio):\n",
        "        self.radio = radio\n",
        "\n",
        "    def calcular_area(self):\n",
        "        return math.pi * self.radio ** 2\n",
        "\n",
        "class Rectangulo(Forma):\n",
        "    def __init__(self, ancho, alto):\n",
        "        self.ancho = ancho\n",
        "        self.alto = alto\n",
        "\n",
        "    def calcular_area(self):\n",
        "        return self.ancho * self.alto\n",
        "\n",
        "# Uso del polimorfismo\n",
        "formas = [\n",
        "    Circulo(3),\n",
        "    Rectangulo(4, 5)\n",
        "]\n",
        "\n",
        "for forma in formas:\n",
        "    print(f\"Área: {forma.calcular_area():.2f}\")\n",
        "\n"
      ],
      "metadata": {
        "id": "w4XHPXIori89"
      },
      "execution_count": null,
      "outputs": []
    },
    {
      "cell_type": "code",
      "source": [
        "abstract class Forma {\n",
        "    public abstract double calcularArea();\n",
        "}\n",
        "\n",
        "class Circulo extends Forma {\n",
        "    private double radio;\n",
        "\n",
        "    public Circulo(double radio) {\n",
        "        this.radio = radio;\n",
        "    }\n",
        "\n",
        "    public double calcularArea() {\n",
        "        return Math.PI * radio * radio;\n",
        "    }\n",
        "}\n",
        "\n",
        "class Rectangulo extends Forma {\n",
        "    private double ancho;\n",
        "    private double alto;\n",
        "\n",
        "    public Rectangulo(double ancho, double alto) {\n",
        "        this.ancho = ancho;\n",
        "        this.alto = alto;\n",
        "    }\n",
        "\n",
        "    public double calcularArea() {\n",
        "        return ancho * alto;\n",
        "    }\n",
        "}\n",
        "\n",
        "public class Ejercicio2 {\n",
        "    public static void main(String[] args) {\n",
        "        Forma f1 = new Circulo(3);\n",
        "        Forma f2 = new Rectangulo(4, 5);\n",
        "        System.out.println(f1.calcularArea());\n",
        "        System.out.println(f2.calcularArea());\n",
        "    }\n",
        "}\n"
      ],
      "metadata": {
        "id": "nzcThP8EsmLN"
      },
      "execution_count": null,
      "outputs": []
    },
    {
      "cell_type": "markdown",
      "source": [
        "3"
      ],
      "metadata": {
        "id": "7N09D_d_tNpk"
      }
    },
    {
      "cell_type": "code",
      "source": [
        "import math\n",
        "\n",
        "# Clase base\n",
        "class Forma:\n",
        "    def calcular_area(self):\n",
        "        pass\n",
        "\n",
        "# Clase derivada Circulo\n",
        "class Circulo(Forma):\n",
        "    def __init__(self, radio):\n",
        "        self.radio = radio\n",
        "\n",
        "    def calcular_area(self):\n",
        "        return math.pi * self.radio ** 2\n",
        "\n",
        "# Clase derivada Rectangulo\n",
        "class Rectangulo(Forma):\n",
        "    def __init__(self, ancho, alto):\n",
        "        self.ancho = ancho\n",
        "        self.alto = alto\n",
        "\n",
        "    def calcular_area(self):\n",
        "        return self.ancho * self.alto\n",
        "\n",
        "# Ejemplo de uso\n",
        "formas = [\n",
        "    Circulo(5),\n",
        "    Rectangulo(4, 6)\n",
        "]\n",
        "\n",
        "for forma in formas:\n",
        "    print(f\"Área: {forma.calcular_area():.2f}\")\n"
      ],
      "metadata": {
        "colab": {
          "base_uri": "https://localhost:8080/"
        },
        "id": "_umcxI73r9yt",
        "outputId": "8e0f2ed7-5cf2-43b1-e4d3-495df911f3f3"
      },
      "execution_count": null,
      "outputs": [
        {
          "output_type": "stream",
          "name": "stdout",
          "text": [
            "Área: 78.54\n",
            "Área: 24.00\n"
          ]
        }
      ]
    },
    {
      "cell_type": "code",
      "source": [
        "\n",
        "abstract class Forma {\n",
        "    public abstract double calcularArea();\n",
        "}\n",
        "\n",
        "\n",
        "class Circulo extends Forma {\n",
        "    private double radio;\n",
        "\n",
        "    public Circulo(double radio) {\n",
        "        this.radio = radio;\n",
        "    }\n",
        "\n",
        "    @Override\n",
        "    public double calcularArea() {\n",
        "        return Math.PI * radio * radio;\n",
        "    }\n",
        "}\n",
        "\n",
        "// Clase derivada: Rectangulo\n",
        "class Rectangulo extends Forma {\n",
        "    private double ancho;\n",
        "    private double alto;\n",
        "\n",
        "    public Rectangulo(double ancho, double alto) {\n",
        "        this.ancho = ancho;\n",
        "        this.alto = alto;\n",
        "    }\n",
        "\n",
        "    @Override\n",
        "    public double calcularArea() {\n",
        "        return ancho * alto;\n",
        "    }\n",
        "}\n",
        "\n",
        "// Clase principal para probar\n",
        "public class Main {\n",
        "    public static void main(String[] args) {\n",
        "        Forma[] formas = new Forma[2];\n",
        "        formas[0] = new Circulo(5);\n",
        "        formas[1] = new Rectangulo(4, 6);\n",
        "\n",
        "        for (Forma forma : formas) {\n",
        "            System.out.printf(\"Área: %.2f\\n\", forma.calcularArea());\n",
        "        }\n",
        "    }\n",
        "}\n"
      ],
      "metadata": {
        "id": "EuevmcFQsan8"
      },
      "execution_count": null,
      "outputs": []
    },
    {
      "cell_type": "markdown",
      "source": [
        "4"
      ],
      "metadata": {
        "id": "89C0tqYWtMYr"
      }
    },
    {
      "cell_type": "code",
      "source": [
        "class Calculadora:\n",
        "    def operar(self, *args):\n",
        "        if len(args) == 2:\n",
        "            return args[0] + args[1]\n",
        "        elif len(args) > 2:\n",
        "            resultado = 1\n",
        "            for num in args:\n",
        "                resultado *= num\n",
        "            return resultado\n",
        "        else:\n",
        "            return \"Operación no válida\"\n",
        "\n",
        "# Pruebas\n",
        "calc = Calculadora()\n",
        "\n",
        "print(\"Suma de 3 + 5:\", calc.operar(3, 5))           # 8\n",
        "print(\"Producto de 2, 3, 4:\", calc.operar(2, 3, 4))   # 24\n",
        "print(\"Sin argumentos:\", calc.operar())              # Operación no válida\n"
      ],
      "metadata": {
        "id": "fSqvtDLMrkR9"
      },
      "execution_count": null,
      "outputs": []
    },
    {
      "cell_type": "code",
      "source": [
        "class Calculadora {\n",
        "    public int operar(int a, int b) {\n",
        "        return a + b;\n",
        "    }\n",
        "\n",
        "    public int operar(int... valores) {\n",
        "        int producto = 1;\n",
        "        for (int v : valores) {\n",
        "            producto *= v;\n",
        "        }\n",
        "        return producto;\n",
        "    }\n",
        "}\n",
        "\n",
        "public class Ejercicio4 {\n",
        "    public static void main(String[] args) {\n",
        "        Calculadora calc = new Calculadora();\n",
        "        System.out.println(\"Suma: \" + calc.operar(3, 4));\n",
        "        System.out.println(\"Producto: \" + calc.operar(2, 3, 4));\n",
        "    }\n",
        "}\n"
      ],
      "metadata": {
        "id": "REBye1MBs0rM"
      },
      "execution_count": null,
      "outputs": []
    },
    {
      "cell_type": "markdown",
      "source": [
        "5"
      ],
      "metadata": {
        "id": "37KxSAiztK57"
      }
    },
    {
      "cell_type": "code",
      "source": [
        "class Figura:\n",
        "    def dibujar(self):\n",
        "        pass\n",
        "\n",
        "class Circulo(Figura):\n",
        "    def dibujar(self):\n",
        "        return \"Dibujando un círculo\"\n",
        "\n",
        "class Rectangulo(Figura):\n",
        "    def dibujar(self):\n",
        "        return \"Dibujando un rectángulo\"\n",
        "\n",
        "# Prueba de polimorfismo\n",
        "figuras = [Circulo(), Rectangulo()]\n",
        "\n",
        "for figura in figuras:\n",
        "    print(figura.dibujar())\n"
      ],
      "metadata": {
        "id": "9BG_-HeFrtGN"
      },
      "execution_count": null,
      "outputs": []
    },
    {
      "cell_type": "code",
      "source": [
        "abstract class Figura {\n",
        "    public abstract String dibujar();\n",
        "}\n",
        "\n",
        "class Circulo extends Figura {\n",
        "    public String dibujar() {\n",
        "        return \"Dibujando un círculo\";\n",
        "    }\n",
        "}\n",
        "\n",
        "class Rectangulo extends Figura {\n",
        "    public String dibujar() {\n",
        "        return \"Dibujando un rectángulo\";\n",
        "    }\n",
        "}\n",
        "\n",
        "public class Ejercicio5 {\n",
        "    public static void main(String[] args) {\n",
        "        Figura[] figuras = { new Circulo(), new Rectangulo() };\n",
        "        for (Figura f : figuras) {\n",
        "            System.out.println(f.dibujar());\n",
        "        }\n",
        "    }\n",
        "}\n"
      ],
      "metadata": {
        "id": "uIMYgenPs3mM"
      },
      "execution_count": null,
      "outputs": []
    },
    {
      "cell_type": "markdown",
      "source": [
        "6"
      ],
      "metadata": {
        "id": "OwRpsrzqtJ58"
      }
    },
    {
      "cell_type": "code",
      "source": [
        "class Empleado:\n",
        "    def trabajar(self):\n",
        "        pass\n",
        "\n",
        "class Gerente(Empleado):\n",
        "    def trabajar(self):\n",
        "        return \"Gestionando al equipo\"\n",
        "\n",
        "class Desarrollador(Empleado):\n",
        "    def trabajar(self):\n",
        "        return \"Escribiendo código\"\n",
        "\n",
        "# Uso del polimorfismo\n",
        "empleados = [Gerente(), Desarrollador()]\n",
        "\n",
        "for empleado in empleados:\n",
        "    print(empleado.trabajar())\n"
      ],
      "metadata": {
        "id": "mpl0Br0Krugd"
      },
      "execution_count": null,
      "outputs": []
    },
    {
      "cell_type": "code",
      "source": [
        "abstract class Empleado {\n",
        "    public abstract String trabajar();\n",
        "}\n",
        "\n",
        "class Gerente extends Empleado {\n",
        "    public String trabajar() {\n",
        "        return \"Gestionando al equipo\";\n",
        "    }\n",
        "}\n",
        "\n",
        "class Desarrollador extends Empleado {\n",
        "    public String trabajar() {\n",
        "        return \"Escribiendo código\";\n",
        "    }\n",
        "}\n",
        "\n",
        "public class Ejercicio6 {\n",
        "    public static void main(String[] args) {\n",
        "        Empleado[] empleados = { new Gerente(), new Desarrollador() };\n",
        "        for (Empleado e : empleados) {\n",
        "            System.out.println(e.trabajar());\n",
        "        }\n",
        "    }\n",
        "}\n"
      ],
      "metadata": {
        "id": "zD9JR6rAs6ZU"
      },
      "execution_count": null,
      "outputs": []
    },
    {
      "cell_type": "markdown",
      "source": [
        "7"
      ],
      "metadata": {
        "id": "fKyJRByetI2s"
      }
    },
    {
      "cell_type": "code",
      "source": [
        "class Fruta:\n",
        "    def describir(self):\n",
        "        pass\n",
        "\n",
        "class Manzana(Fruta):\n",
        "    def describir(self):\n",
        "        return \"Soy una manzana, roja y dulce\"\n",
        "\n",
        "class Naranja(Fruta):\n",
        "    def describir(self):\n",
        "        return \"Soy una naranja, cítrica y jugosa\"\n",
        "\n",
        "# Prueba de polimorfismo\n",
        "frutas = [Manzana(), Naranja()]\n",
        "\n",
        "for fruta in frutas:\n",
        "    print(fruta.describir())\n",
        "\n"
      ],
      "metadata": {
        "id": "eqWT9V2WrwDG"
      },
      "execution_count": null,
      "outputs": []
    },
    {
      "cell_type": "code",
      "source": [
        "abstract class Fruta {\n",
        "    public abstract String describir();\n",
        "}\n",
        "\n",
        "class Manzana extends Fruta {\n",
        "    public String describir() {\n",
        "        return \"Soy una manzana, roja y dulce\";\n",
        "    }\n",
        "}\n",
        "\n",
        "class Naranja extends Fruta {\n",
        "    public String describir() {\n",
        "        return \"Soy una naranja, cítrica y jugosa\";\n",
        "    }\n",
        "}\n",
        "\n",
        "public class Ejercicio7 {\n",
        "    public static void main(String[] args) {\n",
        "        Fruta[] frutas = { new Manzana(), new Naranja() };\n",
        "        for (Fruta f : frutas) {\n",
        "            System.out.println(f.describir());\n",
        "        }\n",
        "    }\n",
        "}\n"
      ],
      "metadata": {
        "id": "Lo26_tXJs82U"
      },
      "execution_count": null,
      "outputs": []
    },
    {
      "cell_type": "markdown",
      "source": [
        "8"
      ],
      "metadata": {
        "id": "9f2MqikPtH0b"
      }
    },
    {
      "cell_type": "code",
      "source": [
        "class Pais:\n",
        "    def __init__(self, nombre, capital):\n",
        "        self.nombre = nombre\n",
        "        self.capital = capital\n",
        "\n",
        "    def mostrar_capital(self):\n",
        "        return f\"La capital de {self.nombre} es {self.capital}\"\n",
        "\n",
        "# Crear instancias de la clase Pais\n",
        "pais1 = Pais(\"Argentina\", \"Buenos Aires\")\n",
        "pais2 = Pais(\"España\", \"Madrid\")\n",
        "\n",
        "# Mostrar la capital de los países\n",
        "print(pais1.mostrar_capital())  # Salida: La capital de Argentina es Buenos Aires\n",
        "print(pais2.mostrar_capital())  # Salida: La capital de España es Madrid\n",
        "\n"
      ],
      "metadata": {
        "id": "Hg6ztflBrzQG"
      },
      "execution_count": null,
      "outputs": []
    },
    {
      "cell_type": "code",
      "source": [
        "class Pais {\n",
        "    private String nombre;\n",
        "    private String capital;\n",
        "\n",
        "    public Pais(String nombre, String capital) {\n",
        "        this.nombre = nombre;\n",
        "        this.capital = capital;\n",
        "    }\n",
        "\n",
        "    public String mostrarCapital() {\n",
        "        return \"La capital de \" + nombre + \" es \" + capital;\n",
        "    }\n",
        "}\n",
        "\n",
        "public class Ejercicio8 {\n",
        "    public static void main(String[] args) {\n",
        "        Pais pais = new Pais(\"España\", \"Madrid\");\n",
        "        System.out.println(pais.mostrarCapital());\n",
        "    }\n",
        "}\n"
      ],
      "metadata": {
        "id": "JV3JmQtfs_VU"
      },
      "execution_count": null,
      "outputs": []
    },
    {
      "cell_type": "markdown",
      "source": [
        "9"
      ],
      "metadata": {
        "id": "cWCJ2yiYtG28"
      }
    },
    {
      "cell_type": "code",
      "source": [
        "class Pais:\n",
        "    def idioma(self):\n",
        "        pass\n",
        "\n",
        "class Mexico(Pais):\n",
        "    def idioma(self):\n",
        "        return \"Español\"\n",
        "\n",
        "class Alemania(Pais):\n",
        "    def idioma(self):\n",
        "        return \"Alemán\"\n",
        "\n",
        "# Crear instancias de los países\n",
        "mexico = Mexico()\n",
        "alemania = Alemania()\n",
        "\n",
        "# Mostrar el idioma de cada país\n",
        "print(f\"El idioma de México es: {mexico.idioma()}\")\n",
        "print(f\"El idioma de Alemania es: {alemania.idioma()}\")\n"
      ],
      "metadata": {
        "id": "onIO_Y8KrzzU"
      },
      "execution_count": null,
      "outputs": []
    },
    {
      "cell_type": "code",
      "source": [
        "abstract class Pais {\n",
        "    public abstract String idioma();\n",
        "}\n",
        "\n",
        "class Mexico extends Pais {\n",
        "    public String idioma() {\n",
        "        return \"Español\";\n",
        "    }\n",
        "}\n",
        "\n",
        "class Alemania extends Pais {\n",
        "    public String idioma() {\n",
        "        return \"Alemán\";\n",
        "    }\n",
        "}\n",
        "\n",
        "public class Ejercicio9 {\n",
        "    public static void main(String[] args) {\n",
        "        Pais[] paises = { new Mexico(), new Alemania() };\n",
        "        for (Pais p : paises) {\n",
        "            System.out.println(\"Idioma: \" + p.idioma());\n",
        "        }\n",
        "    }\n",
        "}\n"
      ],
      "metadata": {
        "id": "FyMaY6mNtB_8"
      },
      "execution_count": null,
      "outputs": []
    },
    {
      "cell_type": "markdown",
      "source": [
        "10"
      ],
      "metadata": {
        "id": "xoxMAE-QtFpk"
      }
    },
    {
      "cell_type": "code",
      "source": [
        "class Vehiculo:\n",
        "    def mover(self):\n",
        "        pass\n",
        "\n",
        "class Bicicleta(Vehiculo):\n",
        "    def mover(self):\n",
        "        return \"Pedaleando...\"\n",
        "\n",
        "class Coche(Vehiculo):\n",
        "    def mover(self):\n",
        "        return \"Conduciendo...\"\n",
        "\n",
        "# Crear instancias de los vehículos\n",
        "bicicleta = Bicicleta()\n",
        "coche = Coche()\n",
        "\n",
        "# Mostrar el movimiento de cada vehículo\n",
        "print(f\"La bicicleta se mueve: {bicicleta.mover()}\")\n",
        "print(f\"El coche se mueve: {coche.mover()}\")\n",
        "\n"
      ],
      "metadata": {
        "id": "E4wl5hAor1JF"
      },
      "execution_count": null,
      "outputs": []
    },
    {
      "cell_type": "code",
      "source": [
        "abstract class Vehiculo {\n",
        "    public abstract String mover();\n",
        "}\n",
        "\n",
        "class Bicicleta extends Vehiculo {\n",
        "    public String mover() {\n",
        "        return \"Pedaleando...\";\n",
        "    }\n",
        "}\n",
        "\n",
        "class Coche extends Vehiculo {\n",
        "    public String mover() {\n",
        "        return \"Conduciendo...\";\n",
        "    }\n",
        "}\n",
        "\n",
        "public class Ejercicio10 {\n",
        "    public static void main(String[] args) {\n",
        "        Vehiculo[] vehiculos = { new Bicicleta(), new Coche() };\n",
        "        for (Vehiculo v : vehiculos) {\n",
        "            System.out.println(v.mover());\n",
        "        }\n",
        "    }\n",
        "}\n"
      ],
      "metadata": {
        "id": "r4p8oCgetCv0"
      },
      "execution_count": null,
      "outputs": []
    }
  ]
}