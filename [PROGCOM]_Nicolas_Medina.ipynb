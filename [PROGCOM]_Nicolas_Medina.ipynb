{
  "nbformat": 4,
  "nbformat_minor": 0,
  "metadata": {
    "colab": {
      "provenance": []
    },
    "kernelspec": {
      "name": "python3",
      "display_name": "Python 3"
    },
    "language_info": {
      "name": "python"
    }
  },
  "cells": [
    {
      "cell_type": "code",
      "execution_count": 1,
      "metadata": {
        "colab": {
          "base_uri": "https://localhost:8080/"
        },
        "id": "nd5upd60D6uB",
        "outputId": "41e6224c-e52d-433c-c8ae-86df0dedbfee"
      },
      "outputs": [
        {
          "output_type": "stream",
          "name": "stdout",
          "text": [
            "Ingresa un número: 1\n",
            "El número 1 es impar.\n"
          ]
        }
      ],
      "source": [
        "numero = int(input(\"Ingresa un número: \"))\n",
        "\n",
        "if numero % 2 == 0:\n",
        "    print(f\"El número {numero} es par.\")\n",
        "else:\n",
        "    print(f\"El número {numero} es impar.\")\n"
      ]
    },
    {
      "cell_type": "code",
      "source": [
        "anio = int(input(\"Ingresa un año: \"))\n",
        "\n",
        "if (anio % 4 == 0 and anio % 100 != 0) or anio % 400 == 0:\n",
        "    print(f\"El año {anio} es bisiesto.\")\n",
        "else:\n",
        "    print(f\"El año {anio} no es bisiesto.\")\n"
      ],
      "metadata": {
        "id": "LR2KKYYXD-_0"
      },
      "execution_count": null,
      "outputs": []
    },
    {
      "cell_type": "code",
      "source": [
        "nombre = input(\"¿Cuál es tu nombre? \")\n",
        "edad = int(input(f\"Hola {nombre}, ¿cuántos años tienes? \"))\n",
        "\n",
        "if edad >= 70:\n",
        "    print(f\"{nombre}, te damos prioridad en la fila debido a tu edad.\")\n",
        "else:\n",
        "    print(f\"{nombre}, no tienes la edad suficiente para recibir prioridad.\")\n"
      ],
      "metadata": {
        "id": "JwdUO9BlECKz"
      },
      "execution_count": null,
      "outputs": []
    },
    {
      "cell_type": "code",
      "source": [
        "a = int(input(\"Ingresa el primer número: \"))\n",
        "b = int(input(\"Ingresa el segundo número: \"))\n",
        "c = int(input(\"Ingresa el tercer número: \"))\n",
        "\n",
        "if a >= b and a >= c:\n",
        "    print(f\"El número mayor es: {a}\")\n",
        "elif b >= a and b >= c:\n",
        "    print(f\"El número mayor es: {b}\")\n",
        "else:\n",
        "    print(f\"El número mayor es: {c}\")\n"
      ],
      "metadata": {
        "id": "nhdFsFNnEEdM"
      },
      "execution_count": null,
      "outputs": []
    },
    {
      "cell_type": "code",
      "source": [
        "lado1 = float(input(\"Ingresa la longitud del primer lado: \"))\n",
        "lado2 = float(input(\"Ingresa la longitud del segundo lado: \"))\n",
        "lado3 = float(input(\"Ingresa la longitud del tercer lado: \"))\n",
        "\n",
        "if lado1 == lado2 == lado3:\n",
        "    print(\"El triángulo es equilátero.\")\n",
        "elif lado1 == lado2 or lado1 == lado3 or lado2 == lado3:\n",
        "    print(\"El triángulo es isósceles.\")\n",
        "else:\n",
        "    print(\"El triángulo es escaleno.\")\n"
      ],
      "metadata": {
        "id": "yFD-kfm5EFD0"
      },
      "execution_count": null,
      "outputs": []
    },
    {
      "cell_type": "code",
      "source": [
        "numero = int(input(\"Ingresa un número: \"))\n",
        "print(f\"El número {numero} es {'par' if numero % 2 == 0 else 'impar'}.\")\n"
      ],
      "metadata": {
        "id": "y1jY0R9AEGjl"
      },
      "execution_count": null,
      "outputs": []
    },
    {
      "cell_type": "code",
      "source": [
        "anio = int(input(\"Ingresa un año: \"))\n",
        "print(f\"El año {anio} {'es bisiesto' if (anio % 4 == 0 and anio % 100 != 0) or anio % 400 == 0 else 'no es bisiesto'}.\")\n"
      ],
      "metadata": {
        "id": "kO72ZxEUEIj0"
      },
      "execution_count": null,
      "outputs": []
    },
    {
      "cell_type": "code",
      "source": [
        "nombre = input(\"¿Cuál es tu nombre? \")\n",
        "edad = int(input(f\"Hola {nombre}, ¿cuántos años tienes? \"))\n",
        "print(f\"{nombre}, {'te damos prioridad en la fila debido a tu edad.' if edad >= 70 else 'no tienes la edad suficiente para recibir prioridad.'}\")\n"
      ],
      "metadata": {
        "id": "Q5Dh1OyBEKqc"
      },
      "execution_count": null,
      "outputs": []
    },
    {
      "cell_type": "code",
      "source": [
        "a = int(input(\"Ingresa el primer número: \"))\n",
        "b = int(input(\"Ingresa el segundo número: \"))\n",
        "c = int(input(\"Ingresa el tercer número: \"))\n",
        "print(f\"El número mayor es: {a if a >= b and a >= c else b if b >= c else c}\")\n"
      ],
      "metadata": {
        "id": "nKK4OAUgEMa8"
      },
      "execution_count": null,
      "outputs": []
    },
    {
      "cell_type": "code",
      "source": [
        "lado1 = float(input(\"Ingresa la longitud del primer lado: \"))\n",
        "lado2 = float(input(\"Ingresa la longitud del segundo lado: \"))\n",
        "lado3 = float(input(\"Ingresa la longitud del tercer lado: \"))\n",
        "print(f\"El triángulo es {'equilátero' if lado1 == lado2 == lado3 else 'isósceles' if lado1 == lado2 or lado1 == lado3 or lado2 == lado3 else 'escaleno'}\")\n"
      ],
      "metadata": {
        "id": "tkyJWXsEEN_k"
      },
      "execution_count": null,
      "outputs": []
    },
    {
      "cell_type": "code",
      "source": [
        "numero = int(input(\"Ingresa un número: \"))\n",
        "switch = {\n",
        "    True: \"par\",\n",
        "    False: \"impar\"\n",
        "}\n",
        "print(f\"El número {numero} es {switch[numero % 2 == 0]}.\")\n"
      ],
      "metadata": {
        "id": "GoUxKnOLEOg0"
      },
      "execution_count": null,
      "outputs": []
    },
    {
      "cell_type": "code",
      "source": [
        "anio = int(input(\"Ingresa un año: \"))\n",
        "switch = {\n",
        "    True: \"es bisiesto\",\n",
        "    False: \"no es bisiesto\"\n",
        "}\n",
        "print(f\"El año {anio} {switch[(anio % 4 == 0 and anio % 100 != 0) or anio % 400 == 0]}.\")\n"
      ],
      "metadata": {
        "id": "CDcM0yqYEWFt"
      },
      "execution_count": null,
      "outputs": []
    },
    {
      "cell_type": "code",
      "source": [
        "nombre = input(\"¿Cuál es tu nombre? \")\n",
        "edad = int(input(f\"Hola {nombre}, ¿cuántos años tienes? \"))\n",
        "switch = {\n",
        "    True: f\"{nombre}, te damos prioridad en la fila debido a tu edad.\",\n",
        "    False: f\"{nombre}, no tienes la edad suficiente para recibir prioridad.\"\n",
        "}\n",
        "print(switch[edad >= 70])\n"
      ],
      "metadata": {
        "id": "_AgMz2AuEXqs"
      },
      "execution_count": null,
      "outputs": []
    },
    {
      "cell_type": "code",
      "source": [
        "a = int(input(\"Ingresa el primer número: \"))\n",
        "b = int(input(\"Ingresa el segundo número: \"))\n",
        "c = int(input(\"Ingresa el tercer número: \"))\n",
        "\n",
        "switch = {\n",
        "    True: a,\n",
        "    False: b if b >= c else c\n",
        "}\n",
        "print(f\"El número mayor es: {switch[a >= b and a >= c]}\")\n"
      ],
      "metadata": {
        "id": "sh4XQMuMEZAt"
      },
      "execution_count": null,
      "outputs": []
    },
    {
      "cell_type": "code",
      "source": [
        "lado1 = float(input(\"Ingresa la longitud del primer lado: \"))\n",
        "lado2 = float(input(\"Ingresa la longitud del segundo lado: \"))\n",
        "lado3 = float(input(\"Ingresa la longitud del tercer lado: \"))\n",
        "\n",
        "switch = {\n",
        "    True: \"equilátero\",\n",
        "    False: \"isósceles\" if lado1 == lado2 or lado1 == lado3 or lado2 == lado3 else \"escaleno\"\n",
        "}\n",
        "print(f\"El triángulo es {switch[lado1 == lado2 == lado3]}\")\n"
      ],
      "metadata": {
        "id": "aU6ICJOYEaW7"
      },
      "execution_count": null,
      "outputs": []
    }
  ]
}