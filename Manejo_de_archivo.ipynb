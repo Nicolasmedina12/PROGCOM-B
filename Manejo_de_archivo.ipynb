{
  "nbformat": 4,
  "nbformat_minor": 0,
  "metadata": {
    "colab": {
      "provenance": []
    },
    "kernelspec": {
      "name": "python3",
      "display_name": "Python 3"
    },
    "language_info": {
      "name": "python"
    }
  },
  "cells": [
    {
      "cell_type": "markdown",
      "source": [
        "¿Qué significa escribir un archivo en programación?\n",
        "Escribir un archivo significa guardar información (texto, datos, etc.) en un archivo en disco desde un programa. Es una forma de almacenar datos de manera persistente.\n",
        "¿Cuál es la diferencia entre los modos de apertura \"w\" y \"a\"?\n",
        "\n",
        "\"w\": Abre el archivo para escritura. Si ya existe, se borra su contenido. Si no existe, lo crea.\n",
        "\n",
        "\"a\": Abre el archivo para añadir al final. Si no existe, lo crea. No borra el contenido existente."
      ],
      "metadata": {
        "id": "LJJMdocqrKOl"
      }
    },
    {
      "cell_type": "code",
      "source": [
        "with open(\"archivo.txt\", \"w\") as f:\n",
        "    f.write(\"Hola mundo\")"
      ],
      "metadata": {
        "id": "auKjHl42rGRF"
      },
      "execution_count": null,
      "outputs": []
    },
    {
      "cell_type": "markdown",
      "source": [
        " ¿Qué función de Python se usa para leer todo el contenido de un archivo de texto de una sola vez?\n",
        "\n",
        "read()\n",
        "Ejemplo:\n",
        "contenido = archivo.read()\n",
        "\n",
        "5. ¿Qué hace el método .strip() al leer líneas de un archivo? ¿Por qué es útil?\n",
        "Elimina los espacios en blanco al principio y al final de una cadena, incluidos los saltos de línea (\\n).\n",
        "Es útil para limpiar los datos y evitar errores al comparar texto o procesar información.\n",
        "\n",
        "6. Escribe un código en Python que lea un archivo llamado datos.txt línea por línea e imprima solo las líneas que contienen la palabra \"clave\"\n",
        "\n",
        "python\n",
        "Copiar\n",
        "Editar\n",
        "with open(\"datos.txt\", \"r\") as archivo:\n",
        "    for linea in archivo:\n",
        "        if \"clave\" in linea:\n",
        "            print(linea.strip())\n",
        "\n",
        "7. ¿Qué comando usarías en Linux para quitar todos los permisos de un archivo?\n",
        "\n",
        "bash\n",
        "Copiar\n",
        "Editar\n",
        "chmod 000 nombre_del_archivo\n",
        "\n",
        "\n",
        "8. ¿Cómo podrías simular una protección por contraseña antes de permitir leer un archivo en Python?\n",
        "\n",
        "python\n",
        "Copiar\n",
        "Editar\n",
        "password = input(\"Introduce la contraseña: \")\n",
        "if password == \"mi_clave\":\n",
        "    with open(\"archivo_secreto.txt\", \"r\") as f:\n",
        "        print(f.read())\n",
        "else:\n",
        "    print(\"Contraseña incorrecta.\")\n",
        "\n",
        "9. Explica qué hace el siguiente código y qué archivo crea.\n",
        "\n",
        "python\n",
        "Copiar\n",
        "Editar\n",
        "with open(\"log.txt\", \"a\") as f:\n",
        "    f.write(\"Inicio del programa\\n\")\n",
        "Abre o crea el archivo log.txt en modo \"añadir\".\n",
        "\n",
        "Escribe \"Inicio del programa\" seguido de un salto de línea al final del archivo.\n",
        "\n",
        "Se suele usar para registros (logs) sin borrar lo anterior.\n",
        "10. ¿Por qué es importante proteger un archivo con permisos o contraseñas? Da un ejemplo real.\n",
        "Para evitar que personas no autorizadas accedan a información sensible.\n",
        "Ejemplo: Un archivo con datos personales de empleados (nombre, dirección, salario) debe estar protegido para cumplir con leyes de privacidad y evitar filtraciones."
      ],
      "metadata": {
        "id": "qxxMMyjhrU0c"
      }
    },
    {
      "cell_type": "code",
      "source": [],
      "metadata": {
        "id": "qhvAkDc9rYQj"
      },
      "execution_count": null,
      "outputs": []
    }
  ]
}