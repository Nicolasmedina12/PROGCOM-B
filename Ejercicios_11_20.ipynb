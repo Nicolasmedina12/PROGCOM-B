{
  "nbformat": 4,
  "nbformat_minor": 0,
  "metadata": {
    "colab": {
      "provenance": []
    },
    "kernelspec": {
      "name": "python3",
      "display_name": "Python 3"
    },
    "language_info": {
      "name": "python"
    }
  },
  "cells": [
    {
      "cell_type": "markdown",
      "source": [
        "12. Desarrolla un programa que simule una calculadora simple (+, -, *, /) con dos números."
      ],
      "metadata": {
        "id": "Ey_OTRLmlOCg"
      }
    },
    {
      "cell_type": "code",
      "source": [
        "def calculadora():\n",
        "    while True:\n",
        "\n",
        "        print(\"Operaciones disponibles:\")\n",
        "        print(\"1. Suma\")\n",
        "        print(\"2. Resta\")\n",
        "        print(\"3. Multiplicación\")\n",
        "        print(\"4. División\")\n",
        "\n",
        "\n",
        "        opcion = input(\"Selecciona una operación (1/2/3/4): \")\n",
        "\n",
        "\n",
        "        if opcion not in ['1', '2', '3', '4']:\n",
        "            print(\"Opción no válida. Intenta de nuevo.\")\n",
        "            continue\n",
        "\n",
        "\n",
        "        num1 = input(\"Ingresa el primer número: \")\n",
        "        num2 = input(\"Ingresa el segundo número: \")\n",
        "\n",
        "\n",
        "        if not num1.replace('.', '', 1).isdigit() or not num2.replace('.', '', 1).isdigit():\n",
        "            print(\"Por favor, ingresa números válidos.\")\n",
        "            continue\n",
        "\n",
        "\n",
        "        num1 = float(num1)\n",
        "        num2 = float(num2)\n",
        "\n",
        "        if opcion == '1':\n",
        "            resultado = num1 + num2\n",
        "            print(f\"{num1} + {num2} = {resultado}\")\n",
        "        elif opcion == '2':\n",
        "            resultado = num1 - num2\n",
        "            print(f\"{num1} - {num2} = {resultado}\")\n",
        "        elif opcion == '3':\n",
        "            resultado = num1 * num2\n",
        "            print(f\"{num1} * {num2} = {resultado}\")\n",
        "        elif opcion == '4':\n",
        "            if num2 == 0:\n",
        "                print(\"Error: No se puede dividir entre 0.\")\n",
        "            else:\n",
        "                resultado = num1 / num2\n",
        "                print(f\"{num1} / {num2} = {resultado}\")\n",
        "\n",
        "        # Preguntar si el usuario quiere hacer otra operación\n",
        "        continuar = input(\"¿Quieres realizar otra operación? (sí/no): \").lower()\n",
        "        if continuar != 'sí':\n",
        "            print(\"Saliendo de la calculadora...\")\n",
        "            break  # Salir del bucle\n",
        "\n",
        "# Llamar a la función de la calculadora\n",
        "calculadora()\n"
      ],
      "metadata": {
        "colab": {
          "base_uri": "https://localhost:8080/"
        },
        "id": "wE8XxcxVlPeI",
        "outputId": "e60174e2-29ac-487b-a66a-366d65d3edec"
      },
      "execution_count": 2,
      "outputs": [
        {
          "output_type": "stream",
          "name": "stdout",
          "text": [
            "Operaciones disponibles:\n",
            "1. Suma\n",
            "2. Resta\n",
            "3. Multiplicación\n",
            "4. División\n",
            "Selecciona una operación (1/2/3/4): 1\n",
            "Ingresa el primer número: 1\n",
            "Ingresa el segundo número: 2\n",
            "1.0 + 2.0 = 3.0\n",
            "¿Quieres realizar otra operación? (sí/no): no\n",
            "Saliendo de la calculadora...\n"
          ]
        }
      ]
    },
    {
      "cell_type": "code",
      "source": [
        "def calculadora():\n",
        "\n",
        "    for _ in range(1):\n",
        "        print(\"Operaciones disponibles:\")\n",
        "        print(\"1. Sumar (+)\")\n",
        "        print(\"2. Restar (-)\")\n",
        "        print(\"3. Multiplicar (*)\")\n",
        "        print(\"4. Dividir (/)\")\n",
        "\n",
        "        opcion = input(\"Selecciona una operación (1/2/3/4): \")\n",
        "\n",
        "        if opcion not in ['1', '2', '3', '4']:\n",
        "            print(\"Opción no válida. Intenta de nuevo.\")\n",
        "            continue\n",
        "\n",
        "\n",
        "        num1 = input(\"Ingresa el primer número: \")\n",
        "        num2 = input(\"Ingresa el segundo número: \")\n",
        "\n",
        "\n",
        "        if not num1.replace('.', '', 1).isdigit() or not num2.replace('.', '', 1).isdigit():\n",
        "            print(\"Por favor, ingresa números válidos.\")\n",
        "            continue\n",
        "\n",
        "\n",
        "        num1 = float(num1)\n",
        "        num2 = float(num2)\n",
        "\n",
        "        if opcion == '1':\n",
        "            resultado = num1 + num2\n",
        "            print(f\"{num1} + {num2} = {resultado}\")\n",
        "        elif opcion == '2':\n",
        "            resultado = num1 - num2\n",
        "            print(f\"{num1} - {num2} = {resultado}\")\n",
        "        elif opcion == '3':\n",
        "            resultado = num1 * num2\n",
        "            print(f\"{num1} * {num2} = {resultado}\")\n",
        "        elif opcion == '4':\n",
        "            if num2 == 0:\n",
        "                print(\"Error: No se puede dividir entre 0.\")\n",
        "            else:\n",
        "                resultado = num1 / num2\n",
        "                print(f\"{num1} / {num2} = {resultado}\")\n",
        "        else:\n",
        "            print(\"Opción no válida. Intenta de nuevo.\")\n",
        "            continue\n",
        "\n",
        "        continuar = input(\"¿Quieres realizar otra operación? (sí/no): \").lower()\n",
        "        if continuar != 'sí':\n",
        "            print(\"Saliendo de la calculadora...\")\n",
        "            break\n",
        "\n",
        "calculadora()\n"
      ],
      "metadata": {
        "colab": {
          "base_uri": "https://localhost:8080/"
        },
        "id": "5kZP1EYHl-BZ",
        "outputId": "39b5a44f-2f84-4868-ea12-09310a520b3f"
      },
      "execution_count": 3,
      "outputs": [
        {
          "output_type": "stream",
          "name": "stdout",
          "text": [
            "Operaciones disponibles:\n",
            "1. Sumar (+)\n",
            "2. Restar (-)\n",
            "3. Multiplicar (*)\n",
            "4. Dividir (/)\n",
            "Selecciona una operación (1/2/3/4): 1\n",
            "Ingresa el primer número: 1\n",
            "Ingresa el segundo número: 1\n",
            "1.0 + 1.0 = 2.0\n",
            "¿Quieres realizar otra operación? (sí/no): no\n",
            "Saliendo de la calculadora...\n"
          ]
        }
      ]
    },
    {
      "cell_type": "markdown",
      "source": [
        "13. Crea un programa que determine la calificación en letras (A, B, C, D, F) según una nota numérica (0-100)."
      ],
      "metadata": {
        "id": "cM_tNhA3moYJ"
      }
    },
    {
      "cell_type": "code",
      "source": [
        "def calificacion_letra(nota):\n",
        "\n",
        "    if 90 <= nota <= 100:\n",
        "        return 'A'\n",
        "    elif 80 <= nota < 90:\n",
        "        return 'B'\n",
        "    elif 70 <= nota < 80:\n",
        "        return 'C'\n",
        "    elif 60 <= nota < 70:\n",
        "        return 'D'\n",
        "    elif 0 <= nota < 60:\n",
        "        return 'F'\n",
        "    else:\n",
        "        return 'Nota inválida'\n",
        "\n",
        "def calcular_calificaciones():\n",
        "\n",
        "    cantidad = int(input(\"¿Cuántas calificaciones deseas ingresar? \"))\n",
        "\n",
        "    # Bucle for para pedir varias calificaciones\n",
        "    for i in range(cantidad):\n",
        "        # Solicitar la nota\n",
        "        nota= float(input(f\"Ingresa la nota del estudiante {i + 1}: \"))\n",
        "        if opcion not in 0< nota <100:\n",
        "          print(\"que paso sacó menos que cero o más de cien?\")\n",
        "\n",
        "\n",
        "        # Determinar la calificación en letra\n",
        "        calificacion = calificacion_letra(nota)\n",
        "\n",
        "        # Mostrar el resultado\n",
        "        if calificacion != 'Nota inválida':\n",
        "            print(f\"La calificación en letra del estudiante {i + 1} es: {calificacion}\")\n",
        "        else:\n",
        "            print(\"La nota ingresada es inválida. Debe estar entre 0 y 100.\")\n",
        "\n",
        "# Llamar a la función para calcular las calificaciones\n",
        "calcular_calificaciones()\n"
      ],
      "metadata": {
        "colab": {
          "base_uri": "https://localhost:8080/",
          "height": 332
        },
        "id": "LbVAfq9qmqtp",
        "outputId": "abbcd283-a34c-44a4-ea75-4bdf8505bca5"
      },
      "execution_count": 8,
      "outputs": [
        {
          "name": "stdout",
          "output_type": "stream",
          "text": [
            "¿Cuántas calificaciones deseas ingresar? 1\n",
            "Ingresa la nota del estudiante 1: 101\n"
          ]
        },
        {
          "output_type": "error",
          "ename": "NameError",
          "evalue": "name 'opcion' is not defined",
          "traceback": [
            "\u001b[0;31m---------------------------------------------------------------------------\u001b[0m",
            "\u001b[0;31mNameError\u001b[0m                                 Traceback (most recent call last)",
            "\u001b[0;32m<ipython-input-8-f84e09f23f0f>\u001b[0m in \u001b[0;36m<cell line: 0>\u001b[0;34m()\u001b[0m\n\u001b[1;32m     36\u001b[0m \u001b[0;34m\u001b[0m\u001b[0m\n\u001b[1;32m     37\u001b[0m \u001b[0;31m# Llamar a la función para calcular las calificaciones\u001b[0m\u001b[0;34m\u001b[0m\u001b[0;34m\u001b[0m\u001b[0m\n\u001b[0;32m---> 38\u001b[0;31m \u001b[0mcalcular_calificaciones\u001b[0m\u001b[0;34m(\u001b[0m\u001b[0;34m)\u001b[0m\u001b[0;34m\u001b[0m\u001b[0;34m\u001b[0m\u001b[0m\n\u001b[0m",
            "\u001b[0;32m<ipython-input-8-f84e09f23f0f>\u001b[0m in \u001b[0;36mcalcular_calificaciones\u001b[0;34m()\u001b[0m\n\u001b[1;32m     22\u001b[0m         \u001b[0;31m# Solicitar la nota\u001b[0m\u001b[0;34m\u001b[0m\u001b[0;34m\u001b[0m\u001b[0m\n\u001b[1;32m     23\u001b[0m         \u001b[0mnota\u001b[0m\u001b[0;34m=\u001b[0m \u001b[0mfloat\u001b[0m\u001b[0;34m(\u001b[0m\u001b[0minput\u001b[0m\u001b[0;34m(\u001b[0m\u001b[0;34mf\"Ingresa la nota del estudiante {i + 1}: \"\u001b[0m\u001b[0;34m)\u001b[0m\u001b[0;34m)\u001b[0m\u001b[0;34m\u001b[0m\u001b[0;34m\u001b[0m\u001b[0m\n\u001b[0;32m---> 24\u001b[0;31m         \u001b[0;32mif\u001b[0m \u001b[0mopcion\u001b[0m \u001b[0;32mnot\u001b[0m \u001b[0;32min\u001b[0m \u001b[0;36m0\u001b[0m\u001b[0;34m<\u001b[0m \u001b[0mnota\u001b[0m \u001b[0;34m<\u001b[0m\u001b[0;36m100\u001b[0m\u001b[0;34m:\u001b[0m\u001b[0;34m\u001b[0m\u001b[0;34m\u001b[0m\u001b[0m\n\u001b[0m\u001b[1;32m     25\u001b[0m           \u001b[0mprint\u001b[0m\u001b[0;34m(\u001b[0m\u001b[0;34m\"que paso sacó menos que cero o más de cien?\"\u001b[0m\u001b[0;34m)\u001b[0m\u001b[0;34m\u001b[0m\u001b[0;34m\u001b[0m\u001b[0m\n\u001b[1;32m     26\u001b[0m \u001b[0;34m\u001b[0m\u001b[0m\n",
            "\u001b[0;31mNameError\u001b[0m: name 'opcion' is not defined"
          ]
        }
      ]
    }
  ]
}